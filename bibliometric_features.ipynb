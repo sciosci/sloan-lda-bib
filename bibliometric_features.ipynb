{
 "cells": [
  {
   "cell_type": "code",
   "execution_count": 1,
   "metadata": {},
   "outputs": [
    {
     "name": "stderr",
     "output_type": "stream",
     "text": [
      "/home/lliang06/.local/lib/python3.7/site-packages/pandas/compat/_optional.py:138: UserWarning: Pandas requires version '2.7.0' or newer of 'numexpr' (version '2.6.9' currently installed).\n",
      "  warnings.warn(msg, UserWarning)\n"
     ]
    }
   ],
   "source": [
    "import os\n",
    "import findspark\n",
    "\n",
    "os.environ['PATH'] = os.environ['PATH'] + \":/usr/java/jdk1.8.0_162/bin\"\n",
    "os.environ['PYSPARK_PYTHON'] = '/home/tozeng/anaconda3/bin/python'\n",
    "\n",
    "import findspark\n",
    "os.environ['PYSPARK_SUBMIT_ARGS'] = \\\n",
    "    \"--packages com.databricks:spark-xml_2.11:0.5.0 pyspark-shell\"\n",
    "findspark.init('/opt/cloudera/parcels/SPARK2/lib/spark2/')\n",
    "\n",
    "import pyspark\n",
    "from pyspark.sql import SparkSession\n",
    "from pyspark.sql import functions as fn\n",
    "from pyspark.sql.window import Window\n",
    "\n",
    "import matplotlib.pyplot as plt\n",
    "import pandas as pd\n",
    "import numpy as np\n",
    "\n",
    "spark = SparkSession.builder.\\\n",
    "    appName('sloan-query').\\\n",
    "    config('spark.driver.memory', '20g').\\\n",
    "    config('spark.network.timeout', '600s').\\\n",
    "    config('spark.driver.maxResultSize', '10g').\\\n",
    "    config('spark.executor.memory', '15g').\\\n",
    "    config('spark.kryoserializer.buffer.max', '1g').\\\n",
    "    config('spark.cores.max', '50').\\\n",
    "    getOrCreate()\n",
    "sc = spark.sparkContext"
   ]
  },
  {
   "cell_type": "code",
   "execution_count": 2,
   "metadata": {},
   "outputs": [],
   "source": [
    "dimension_energy_pi = spark.read.parquet('./sloan/dimension_energy_pi.parquet')\n",
    "authorship = spark.read.parquet('/user/lliang06/daniel-dimensions/authorship.parquet')\n",
    "potential_researchers = spark.read.parquet('./sloan/potential_researchers.parquet')"
   ]
  },
  {
   "cell_type": "code",
   "execution_count": 3,
   "metadata": {},
   "outputs": [],
   "source": [
    "import re"
   ]
  },
  {
   "cell_type": "code",
   "execution_count": 4,
   "metadata": {},
   "outputs": [],
   "source": [
    "authorship = spark.read.parquet('/user/lliang06/daniel-dimensions/authorship.parquet')\n",
    "citations = spark.read.parquet('/user/lliang06/daniel-dimensions/citations.parquet')\n",
    "datasets = spark.read.parquet('/user/lliang06/daniel-dimensions/datasets')\n",
    "clinical_trials = spark.read.parquet('/user/lliang06/daniel-dimensions/clinical_trials')\n",
    "grants = spark.read.parquet('/user/lliang06/daniel-dimensions/grants')\n",
    "grid = spark.read.parquet('/user/lliang06/daniel-dimensions/grid')\n",
    "patents = spark.read.parquet('/user/lliang06/daniel-dimensions/patents')\n",
    "policy_documents = spark.read.parquet('/user/lliang06/daniel-dimensions/policy_documents')\n",
    "publications = spark.read.parquet('/user/lliang06/daniel-dimensions/publications')\n",
    "reports = spark.read.parquet('/user/lliang06/daniel-dimensions/reports')\n",
    "researchers = spark.read.parquet('/user/lliang06/daniel-dimensions/researchers')\n",
    "source_titles = spark.read.parquet('/user/lliang06/daniel-dimensions/source_titles')"
   ]
  },
  {
   "cell_type": "code",
   "execution_count": 5,
   "metadata": {},
   "outputs": [],
   "source": [
    "pubid = pd.read_csv('./data/lda_pubid.csv')"
   ]
  },
  {
   "cell_type": "code",
   "execution_count": 12,
   "metadata": {},
   "outputs": [],
   "source": [
    "pubid_coauthor_count = spark.createDataFrame(pubid).\\\n",
    "    join(authorship, on = 'publication_id', how = 'inner').\\\n",
    "    groupby('publication_id').count().withColumnRenamed('count', 'coauthor_count').\\\n",
    "    toPandas()"
   ]
  },
  {
   "cell_type": "code",
   "execution_count": 13,
   "metadata": {},
   "outputs": [],
   "source": [
    "# pubid_coauthor_count.to_csv('./data/pubid_coauthor_count.csv', index = False)"
   ]
  },
  {
   "cell_type": "code",
   "execution_count": 14,
   "metadata": {},
   "outputs": [
    {
     "data": {
      "text/html": [
       "<div>\n",
       "<style scoped>\n",
       "    .dataframe tbody tr th:only-of-type {\n",
       "        vertical-align: middle;\n",
       "    }\n",
       "\n",
       "    .dataframe tbody tr th {\n",
       "        vertical-align: top;\n",
       "    }\n",
       "\n",
       "    .dataframe thead th {\n",
       "        text-align: right;\n",
       "    }\n",
       "</style>\n",
       "<table border=\"1\" class=\"dataframe\">\n",
       "  <thead>\n",
       "    <tr style=\"text-align: right;\">\n",
       "      <th></th>\n",
       "      <th>publication_id</th>\n",
       "      <th>coauthor_count</th>\n",
       "    </tr>\n",
       "  </thead>\n",
       "  <tbody>\n",
       "    <tr>\n",
       "      <th>0</th>\n",
       "      <td>pub.1000005399</td>\n",
       "      <td>1</td>\n",
       "    </tr>\n",
       "    <tr>\n",
       "      <th>1</th>\n",
       "      <td>pub.1000006638</td>\n",
       "      <td>1</td>\n",
       "    </tr>\n",
       "    <tr>\n",
       "      <th>2</th>\n",
       "      <td>pub.1000013239</td>\n",
       "      <td>3</td>\n",
       "    </tr>\n",
       "    <tr>\n",
       "      <th>3</th>\n",
       "      <td>pub.1000014339</td>\n",
       "      <td>5</td>\n",
       "    </tr>\n",
       "    <tr>\n",
       "      <th>4</th>\n",
       "      <td>pub.1000015633</td>\n",
       "      <td>6</td>\n",
       "    </tr>\n",
       "    <tr>\n",
       "      <th>...</th>\n",
       "      <td>...</td>\n",
       "      <td>...</td>\n",
       "    </tr>\n",
       "    <tr>\n",
       "      <th>6187427</th>\n",
       "      <td>pub.1147433638</td>\n",
       "      <td>4</td>\n",
       "    </tr>\n",
       "    <tr>\n",
       "      <th>6187428</th>\n",
       "      <td>pub.1147767156</td>\n",
       "      <td>3</td>\n",
       "    </tr>\n",
       "    <tr>\n",
       "      <th>6187429</th>\n",
       "      <td>pub.1147932716</td>\n",
       "      <td>6</td>\n",
       "    </tr>\n",
       "    <tr>\n",
       "      <th>6187430</th>\n",
       "      <td>pub.1148007290</td>\n",
       "      <td>6</td>\n",
       "    </tr>\n",
       "    <tr>\n",
       "      <th>6187431</th>\n",
       "      <td>pub.1148092441</td>\n",
       "      <td>6</td>\n",
       "    </tr>\n",
       "  </tbody>\n",
       "</table>\n",
       "<p>6187432 rows × 2 columns</p>\n",
       "</div>"
      ],
      "text/plain": [
       "         publication_id  coauthor_count\n",
       "0        pub.1000005399               1\n",
       "1        pub.1000006638               1\n",
       "2        pub.1000013239               3\n",
       "3        pub.1000014339               5\n",
       "4        pub.1000015633               6\n",
       "...                 ...             ...\n",
       "6187427  pub.1147433638               4\n",
       "6187428  pub.1147767156               3\n",
       "6187429  pub.1147932716               6\n",
       "6187430  pub.1148007290               6\n",
       "6187431  pub.1148092441               6\n",
       "\n",
       "[6187432 rows x 2 columns]"
      ]
     },
     "execution_count": 14,
     "metadata": {},
     "output_type": "execute_result"
    }
   ],
   "source": [
    "pubid_coauthor_count = pd.read_csv('./data/pubid_coauthor_count.csv')"
   ]
  },
  {
   "cell_type": "code",
   "execution_count": null,
   "metadata": {},
   "outputs": [],
   "source": []
  },
  {
   "cell_type": "code",
   "execution_count": 230,
   "metadata": {},
   "outputs": [],
   "source": [
    "with open('./data/dup_ids.txt') as f:\n",
    "    lines = f.readlines()\n",
    "\n",
    "dimension_dict = {}\n",
    "dimension_dict['Award_number'] = []\n",
    "dimension_dict['PI'] = []\n",
    "dimension_dict['researcher_id'] = []\n",
    "p = re.compile(r'ur.\\d+.\\d+')\n",
    "\n",
    "for l in lines:\n",
    "    if 'Award_number' in l:\n",
    "        dimension_dict['Award_number'].append(l.split(' ')[-1][:-1])\n",
    "    if (len(l.split(' ')) <= 4) & ('Award_number' not in l) & (l is not '\\n') & ('combine' not in l) & ('Combine' not in l):\n",
    "        dimension_dict['PI'].append(l.split('\\t')[-1].split('\\n')[0])\n",
    "    if (('combine' in l) | ('Combine' in l)) & ('&' in l):\n",
    "        if 'combine' in l:\n",
    "            dimension_dict['researcher_id'].append(l.split('combine')[-1][:-1].split('&'))\n",
    "        elif 'Combine' in l:\n",
    "            dimension_dict['researcher_id'].append(l.split('Combine')[-1][:-1].split('&'))\n",
    "            \n",
    "            \n",
    "            "
   ]
  },
  {
   "cell_type": "code",
   "execution_count": 267,
   "metadata": {},
   "outputs": [],
   "source": [
    "id_mapping = {}\n",
    "for ids in dimension_dict['researcher_id']:\n",
    "    for id in ids:\n",
    "        if id.strip() != '':\n",
    "            id_mapping[id.strip()] = ids[0].strip()"
   ]
  },
  {
   "cell_type": "code",
   "execution_count": null,
   "metadata": {},
   "outputs": [],
   "source": []
  },
  {
   "cell_type": "code",
   "execution_count": 6,
   "metadata": {},
   "outputs": [],
   "source": [
    "df = pd.read_csv('./data/energy_grants_Dimensions_wAbstract_cleanest.csv')[['PI', 'researcher_id', 'StartYear', 'EndYear']]"
   ]
  },
  {
   "cell_type": "code",
   "execution_count": 7,
   "metadata": {},
   "outputs": [],
   "source": [
    "df['YearBefore'] = df['StartYear'] - 1 "
   ]
  },
  {
   "cell_type": "code",
   "execution_count": 8,
   "metadata": {},
   "outputs": [],
   "source": [
    "df = spark.createDataFrame(df)"
   ]
  },
  {
   "cell_type": "code",
   "execution_count": 40,
   "metadata": {},
   "outputs": [
    {
     "data": {
      "text/plain": [
       "1956"
      ]
     },
     "execution_count": 40,
     "metadata": {},
     "output_type": "execute_result"
    }
   ],
   "source": [
    "df.\\\n",
    "    join(authorship, 'researcher_id', 'inner').\\\n",
    "    select('researcher_id').\\\n",
    "    drop_duplicates().\\\n",
    "    count()"
   ]
  },
  {
   "cell_type": "code",
   "execution_count": 41,
   "metadata": {},
   "outputs": [
    {
     "data": {
      "text/plain": [
       "2683"
      ]
     },
     "execution_count": 41,
     "metadata": {},
     "output_type": "execute_result"
    }
   ],
   "source": [
    "df.count()"
   ]
  },
  {
   "cell_type": "code",
   "execution_count": null,
   "metadata": {},
   "outputs": [],
   "source": []
  },
  {
   "cell_type": "code",
   "execution_count": 2,
   "metadata": {},
   "outputs": [],
   "source": [
    "from pyspark.sql.functions import row_number\n",
    "windowSpec  = Window.partitionBy(\"researcher_id\").orderBy(\"year\")\n",
    "\n",
    "researcher_academic_startyear = authorship.\\\n",
    "    join(df.select('researcher_id'), on = 'researcher_id', how = 'inner').\\\n",
    "    join(publications.select(fn.col('id').alias('publication_id'), 'year'), how = 'inner', on = 'publication_id').\\\n",
    "    dropna().\\\n",
    "    withColumn(\"row_number\", fn.row_number().over(windowSpec)).\\\n",
    "    where(fn.col('row_number') == 1).\\\n",
    "    select('researcher_id', 'year').\\\n",
    "    drop_duplicates().toPandas()"
   ]
  },
  {
   "cell_type": "code",
   "execution_count": 37,
   "metadata": {},
   "outputs": [],
   "source": [
    "# researcher_academic_startyear.to_csv('./data/researcher_academic_startyear.csv', index = False)\n",
    "researcher_academic_startyear = pd.read_csv('./data/researcher_academic_startyear.csv')"
   ]
  },
  {
   "cell_type": "code",
   "execution_count": 43,
   "metadata": {},
   "outputs": [],
   "source": [
    "researcher_academic_startyear_df = spark.createDataFrame(researcher_academic_startyear).\\\n",
    "                                        join(df.select('researcher_id', 'YearBefore'), 'researcher_id', 'inner').\\\n",
    "                                        drop_duplicates()"
   ]
  },
  {
   "cell_type": "code",
   "execution_count": 44,
   "metadata": {},
   "outputs": [
    {
     "data": {
      "text/plain": [
       "2506"
      ]
     },
     "execution_count": 44,
     "metadata": {},
     "output_type": "execute_result"
    }
   ],
   "source": [
    "researcher_academic_startyear_df.count()"
   ]
  },
  {
   "cell_type": "code",
   "execution_count": null,
   "metadata": {},
   "outputs": [],
   "source": []
  },
  {
   "cell_type": "markdown",
   "metadata": {},
   "source": [
    "### Publication Count"
   ]
  },
  {
   "cell_type": "code",
   "execution_count": 45,
   "metadata": {},
   "outputs": [],
   "source": [
    "pub_idx_nopp = publications.where(fn.col('type') != 'preprint').select(fn.col('id').alias('publication_id'), 'year')"
   ]
  },
  {
   "cell_type": "code",
   "execution_count": 46,
   "metadata": {},
   "outputs": [],
   "source": [
    "publication_count = authorship.\\\n",
    "    join(df.select('researcher_id', 'YearBefore'), on = 'researcher_id', how = 'inner').\\\n",
    "    join(pub_idx_nopp, how = 'inner', on = 'publication_id').\\\n",
    "    where(fn.col('year') <= fn.col('YearBefore')).\\\n",
    "    groupby('researcher_id', 'YearBefore').count().withColumnRenamed('count', 'publication_count')"
   ]
  },
  {
   "cell_type": "code",
   "execution_count": 47,
   "metadata": {},
   "outputs": [],
   "source": [
    "publication_count_3Y = authorship.\\\n",
    "    join(df.select('researcher_id', 'YearBefore'), on = 'researcher_id', how = 'inner').\\\n",
    "    join(pub_idx_nopp, how = 'inner', on = 'publication_id').\\\n",
    "    where((fn.col('year') <= fn.col('YearBefore')) & (fn.col('year') > (fn.col('YearBefore') - fn.lit(3)))).\\\n",
    "    groupby('researcher_id', 'YearBefore').count().withColumnRenamed('count', 'publication_count_3Y')"
   ]
  },
  {
   "cell_type": "code",
   "execution_count": 48,
   "metadata": {},
   "outputs": [],
   "source": [
    "publication_count_5Y = authorship.\\\n",
    "    join(df.select('researcher_id', 'YearBefore'), on = 'researcher_id', how = 'inner').\\\n",
    "    join(pub_idx_nopp, how = 'inner', on = 'publication_id').\\\n",
    "    where((fn.col('year') <= fn.col('YearBefore')) & (fn.col('year') > (fn.col('YearBefore') - fn.lit(5)))).\\\n",
    "    groupby('researcher_id', 'YearBefore').count().withColumnRenamed('count', 'publication_count_5Y')"
   ]
  },
  {
   "cell_type": "code",
   "execution_count": 49,
   "metadata": {},
   "outputs": [],
   "source": [
    "publication_count_10Y = authorship.\\\n",
    "    join(df.select('researcher_id', 'YearBefore'), on = 'researcher_id', how = 'inner').\\\n",
    "    join(pub_idx_nopp, how = 'inner', on = 'publication_id').\\\n",
    "    where((fn.col('year') <= fn.col('YearBefore')) & (fn.col('year') > (fn.col('YearBefore') - fn.lit(10)))).\\\n",
    "    groupby('researcher_id', 'YearBefore').count().withColumnRenamed('count', 'publication_count_10Y')"
   ]
  },
  {
   "cell_type": "code",
   "execution_count": null,
   "metadata": {},
   "outputs": [],
   "source": []
  },
  {
   "cell_type": "markdown",
   "metadata": {},
   "source": [
    "#### annually"
   ]
  },
  {
   "cell_type": "code",
   "execution_count": 50,
   "metadata": {},
   "outputs": [],
   "source": [
    "windowSpec  = Window.partitionBy(\"researcher_id\")\n",
    "\n",
    "researcher_annual = authorship.\\\n",
    "    join(df.select('researcher_id'), on = 'researcher_id', how = 'inner').\\\n",
    "    join(pub_idx_nopp, how = 'inner', on = 'publication_id').\\\n",
    "    select('researcher_id', 'year').drop_duplicates().\\\n",
    "    withColumn(\"min\", fn.min('year').over(windowSpec)).\\\n",
    "    withColumn(\"max\", fn.max('year').over(windowSpec)).\\\n",
    "    select('researcher_id', 'min', 'max').drop_duplicates().toPandas()"
   ]
  },
  {
   "cell_type": "code",
   "execution_count": 51,
   "metadata": {},
   "outputs": [],
   "source": [
    "researcher_annual['min'] = researcher_annual['min'].astype(int)\n",
    "researcher_annual['max'] = researcher_annual['max'].astype(int)"
   ]
  },
  {
   "cell_type": "code",
   "execution_count": 52,
   "metadata": {
    "scrolled": true
   },
   "outputs": [],
   "source": [
    "researcher_annual['YearBefore'] = researcher_annual.apply(lambda x: range(x['min'], x['max'] + 1), axis=1)"
   ]
  },
  {
   "cell_type": "code",
   "execution_count": 53,
   "metadata": {},
   "outputs": [],
   "source": [
    "researcher_annual = researcher_annual.drop(['min', 'max'], axis = 1).explode('YearBefore')"
   ]
  },
  {
   "cell_type": "code",
   "execution_count": 54,
   "metadata": {},
   "outputs": [],
   "source": [
    "researcher_annual = researcher_annual.dropna().reset_index(drop = True)"
   ]
  },
  {
   "cell_type": "code",
   "execution_count": 55,
   "metadata": {},
   "outputs": [],
   "source": [
    "researcher_annual['YearBefore'] = researcher_annual['YearBefore'].astype(int)"
   ]
  },
  {
   "cell_type": "code",
   "execution_count": 56,
   "metadata": {
    "scrolled": true
   },
   "outputs": [],
   "source": [
    "researcher_annual_df = spark.createDataFrame(researcher_annual)"
   ]
  },
  {
   "cell_type": "code",
   "execution_count": 57,
   "metadata": {},
   "outputs": [],
   "source": [
    "publication_count_annual = authorship.\\\n",
    "    join(researcher_annual_df.select('researcher_id', 'YearBefore'), on = 'researcher_id', how = 'inner').\\\n",
    "    join(pub_idx_nopp, how = 'inner', on = 'publication_id').\\\n",
    "    where(fn.col('year') <= fn.col('YearBefore')).\\\n",
    "    groupby('researcher_id', 'YearBefore').count().withColumnRenamed('count', 'publication_count')"
   ]
  },
  {
   "cell_type": "code",
   "execution_count": 58,
   "metadata": {},
   "outputs": [],
   "source": [
    "publication_count_3Y_annual = authorship.\\\n",
    "    join(researcher_annual_df.select('researcher_id', 'YearBefore'), on = 'researcher_id', how = 'inner').\\\n",
    "    join(pub_idx_nopp, how = 'inner', on = 'publication_id').\\\n",
    "    where((fn.col('year') <= fn.col('YearBefore')) & (fn.col('year') > (fn.col('YearBefore') - fn.lit(3)))).\\\n",
    "    groupby('researcher_id', 'YearBefore').count().withColumnRenamed('count', 'publication_count_3Y')"
   ]
  },
  {
   "cell_type": "code",
   "execution_count": 59,
   "metadata": {},
   "outputs": [],
   "source": [
    "publication_count_5Y_annual = authorship.\\\n",
    "    join(researcher_annual_df.select('researcher_id', 'YearBefore'), on = 'researcher_id', how = 'inner').\\\n",
    "    join(pub_idx_nopp, how = 'inner', on = 'publication_id').\\\n",
    "    where((fn.col('year') <= fn.col('YearBefore')) & (fn.col('year') > (fn.col('YearBefore') - fn.lit(5)))).\\\n",
    "    groupby('researcher_id', 'YearBefore').count().withColumnRenamed('count', 'publication_count_5Y')"
   ]
  },
  {
   "cell_type": "code",
   "execution_count": 60,
   "metadata": {},
   "outputs": [],
   "source": [
    "publication_count_10Y_annual = authorship.\\\n",
    "    join(researcher_annual_df.select('researcher_id', 'YearBefore'), on = 'researcher_id', how = 'inner').\\\n",
    "    join(pub_idx_nopp, how = 'inner', on = 'publication_id').\\\n",
    "    where((fn.col('year') <= fn.col('YearBefore')) & (fn.col('year') > (fn.col('YearBefore') - fn.lit(10)))).\\\n",
    "    groupby('researcher_id', 'YearBefore').count().withColumnRenamed('count', 'publication_count_10Y')"
   ]
  },
  {
   "cell_type": "code",
   "execution_count": null,
   "metadata": {},
   "outputs": [],
   "source": []
  },
  {
   "cell_type": "markdown",
   "metadata": {},
   "source": [
    "### Citation Received Count by Citing Paper Publication Year"
   ]
  },
  {
   "cell_type": "code",
   "execution_count": 61,
   "metadata": {},
   "outputs": [],
   "source": [
    "citation_count = authorship.\\\n",
    "    join(df.select('researcher_id', 'YearBefore'), on = 'researcher_id', how = 'inner').\\\n",
    "    join(pub_idx_nopp, how = 'inner', on = 'publication_id').\\\n",
    "    join(citations, 'publication_id', 'inner').\\\n",
    "    join(pub_idx_nopp.select(fn.col('publication_id').alias('citing_publication_id')), 'citing_publication_id', 'inner').\\\n",
    "    where(fn.col('citation_year') <= fn.col('YearBefore')).\\\n",
    "    groupby('researcher_id', 'YearBefore').count().withColumnRenamed('count', 'citation_count')"
   ]
  },
  {
   "cell_type": "code",
   "execution_count": 62,
   "metadata": {},
   "outputs": [],
   "source": [
    "citation_count_3Y = authorship.\\\n",
    "    join(df.select('researcher_id', 'YearBefore'), on = 'researcher_id', how = 'inner').\\\n",
    "    join(pub_idx_nopp, how = 'inner', on = 'publication_id').\\\n",
    "    join(citations, 'publication_id', 'inner').\\\n",
    "    join(pub_idx_nopp.select(fn.col('publication_id').alias('citing_publication_id')), 'citing_publication_id', 'inner').\\\n",
    "    where((fn.col('citation_year') <= fn.col('YearBefore')) & (fn.col('citation_year') > (fn.col('YearBefore') - fn.lit(3)))).\\\n",
    "    groupby('researcher_id', 'YearBefore').count().withColumnRenamed('count', 'citation_count_3Y')"
   ]
  },
  {
   "cell_type": "code",
   "execution_count": 63,
   "metadata": {},
   "outputs": [],
   "source": [
    "citation_count_5Y = authorship.\\\n",
    "    join(df.select('researcher_id', 'YearBefore'), on = 'researcher_id', how = 'inner').\\\n",
    "    join(pub_idx_nopp, how = 'inner', on = 'publication_id').\\\n",
    "    join(citations, 'publication_id', 'inner').\\\n",
    "    join(pub_idx_nopp.select(fn.col('publication_id').alias('citing_publication_id')), 'citing_publication_id', 'inner').\\\n",
    "    where((fn.col('citation_year') <= fn.col('YearBefore')) & (fn.col('citation_year') > (fn.col('YearBefore') - fn.lit(5)))).\\\n",
    "    groupby('researcher_id', 'YearBefore').count().withColumnRenamed('count', 'citation_count_5Y')"
   ]
  },
  {
   "cell_type": "code",
   "execution_count": 64,
   "metadata": {},
   "outputs": [],
   "source": [
    "citation_count_10Y = authorship.\\\n",
    "    join(df.select('researcher_id', 'YearBefore'), on = 'researcher_id', how = 'inner').\\\n",
    "    join(pub_idx_nopp, how = 'inner', on = 'publication_id').\\\n",
    "    join(citations, 'publication_id', 'inner').\\\n",
    "    join(pub_idx_nopp.select(fn.col('publication_id').alias('citing_publication_id')), 'citing_publication_id', 'inner').\\\n",
    "    where((fn.col('citation_year') <= fn.col('YearBefore')) & (fn.col('citation_year') > (fn.col('YearBefore') - fn.lit(10)))).\\\n",
    "    groupby('researcher_id', 'YearBefore').count().withColumnRenamed('count', 'citation_count_10Y')"
   ]
  },
  {
   "cell_type": "code",
   "execution_count": null,
   "metadata": {},
   "outputs": [],
   "source": []
  },
  {
   "cell_type": "markdown",
   "metadata": {},
   "source": [
    "#### annually"
   ]
  },
  {
   "cell_type": "code",
   "execution_count": 65,
   "metadata": {},
   "outputs": [],
   "source": [
    "citation_count_annual = authorship.\\\n",
    "    join(researcher_annual_df.select('researcher_id', 'YearBefore'), on = 'researcher_id', how = 'inner').\\\n",
    "    join(pub_idx_nopp, how = 'inner', on = 'publication_id').\\\n",
    "    join(citations, 'publication_id', 'inner').\\\n",
    "    join(pub_idx_nopp.select(fn.col('publication_id').alias('citing_publication_id')), 'citing_publication_id', 'inner').\\\n",
    "    where(fn.col('citation_year') <= fn.col('YearBefore')).\\\n",
    "    groupby('researcher_id', 'YearBefore').count().withColumnRenamed('count', 'citation_count')"
   ]
  },
  {
   "cell_type": "code",
   "execution_count": 66,
   "metadata": {},
   "outputs": [],
   "source": [
    "citation_count_3Y_annual = authorship.\\\n",
    "    join(researcher_annual_df.select('researcher_id', 'YearBefore'), on = 'researcher_id', how = 'inner').\\\n",
    "    join(pub_idx_nopp, how = 'inner', on = 'publication_id').\\\n",
    "    join(citations, 'publication_id', 'inner').\\\n",
    "    join(pub_idx_nopp.select(fn.col('publication_id').alias('citing_publication_id')), 'citing_publication_id', 'inner').\\\n",
    "    where((fn.col('citation_year') <= fn.col('YearBefore')) & (fn.col('citation_year') > (fn.col('YearBefore') - fn.lit(3)))).\\\n",
    "    groupby('researcher_id', 'YearBefore').count().withColumnRenamed('count', 'citation_count_3Y')"
   ]
  },
  {
   "cell_type": "code",
   "execution_count": 67,
   "metadata": {},
   "outputs": [],
   "source": [
    "citation_count_5Y_annual = authorship.\\\n",
    "    join(researcher_annual_df.select('researcher_id', 'YearBefore'), on = 'researcher_id', how = 'inner').\\\n",
    "    join(pub_idx_nopp, how = 'inner', on = 'publication_id').\\\n",
    "    join(citations, 'publication_id', 'inner').\\\n",
    "    join(pub_idx_nopp.select(fn.col('publication_id').alias('citing_publication_id')), 'citing_publication_id', 'inner').\\\n",
    "    where((fn.col('citation_year') <= fn.col('YearBefore')) & (fn.col('citation_year') > (fn.col('YearBefore') - fn.lit(5)))).\\\n",
    "    groupby('researcher_id', 'YearBefore').count().withColumnRenamed('count', 'citation_count_5Y')"
   ]
  },
  {
   "cell_type": "code",
   "execution_count": 68,
   "metadata": {},
   "outputs": [],
   "source": [
    "citation_count_10Y_annual = authorship.\\\n",
    "    join(researcher_annual_df.select('researcher_id', 'YearBefore'), on = 'researcher_id', how = 'inner').\\\n",
    "    join(pub_idx_nopp, how = 'inner', on = 'publication_id').\\\n",
    "    join(citations, 'publication_id', 'inner').\\\n",
    "    join(pub_idx_nopp.select(fn.col('publication_id').alias('citing_publication_id')), 'citing_publication_id', 'inner').\\\n",
    "    where((fn.col('citation_year') <= fn.col('YearBefore')) & (fn.col('citation_year') > (fn.col('YearBefore') - fn.lit(10)))).\\\n",
    "    groupby('researcher_id', 'YearBefore').count().withColumnRenamed('count', 'citation_count_10Y')"
   ]
  },
  {
   "cell_type": "code",
   "execution_count": null,
   "metadata": {},
   "outputs": [],
   "source": []
  },
  {
   "cell_type": "markdown",
   "metadata": {},
   "source": [
    "### Citation Received Count by Cited Paper Publication Year"
   ]
  },
  {
   "cell_type": "code",
   "execution_count": 69,
   "metadata": {},
   "outputs": [],
   "source": [
    "citation_count_3YPub = authorship.\\\n",
    "    join(df.select('researcher_id', 'YearBefore'), on = 'researcher_id', how = 'inner').\\\n",
    "    join(pub_idx_nopp, how = 'inner', on = 'publication_id').\\\n",
    "    join(citations, 'publication_id', 'inner').\\\n",
    "    join(pub_idx_nopp.select(fn.col('publication_id').alias('citing_publication_id')), 'citing_publication_id', 'inner').\\\n",
    "    where((fn.col('year') <= fn.col('YearBefore')) & (fn.col('year') > (fn.col('YearBefore') - fn.lit(3)))).\\\n",
    "    groupby('researcher_id', 'YearBefore').count().withColumnRenamed('count', 'citation_count_3YPub')"
   ]
  },
  {
   "cell_type": "code",
   "execution_count": 70,
   "metadata": {},
   "outputs": [],
   "source": [
    "citation_count_5YPub = authorship.\\\n",
    "    join(df.select('researcher_id', 'YearBefore'), on = 'researcher_id', how = 'inner').\\\n",
    "    join(pub_idx_nopp, how = 'inner', on = 'publication_id').\\\n",
    "    join(citations, 'publication_id', 'inner').\\\n",
    "    join(pub_idx_nopp.select(fn.col('publication_id').alias('citing_publication_id')), 'citing_publication_id', 'inner').\\\n",
    "    where((fn.col('year') <= fn.col('YearBefore')) & (fn.col('year') > (fn.col('YearBefore') - fn.lit(5)))).\\\n",
    "    groupby('researcher_id', 'YearBefore').count().withColumnRenamed('count', 'citation_count_5YPub')"
   ]
  },
  {
   "cell_type": "code",
   "execution_count": 71,
   "metadata": {},
   "outputs": [],
   "source": [
    "citation_count_10YPub = authorship.\\\n",
    "    join(df.select('researcher_id', 'YearBefore'), on = 'researcher_id', how = 'inner').\\\n",
    "    join(pub_idx_nopp, how = 'inner', on = 'publication_id').\\\n",
    "    join(citations, 'publication_id', 'inner').\\\n",
    "    join(pub_idx_nopp.select(fn.col('publication_id').alias('citing_publication_id')), 'citing_publication_id', 'inner').\\\n",
    "    where((fn.col('year') <= fn.col('YearBefore')) & (fn.col('year') > (fn.col('YearBefore') - fn.lit(10)))).\\\n",
    "    groupby('researcher_id', 'YearBefore').count().withColumnRenamed('count', 'citation_count_10YPub')"
   ]
  },
  {
   "cell_type": "code",
   "execution_count": null,
   "metadata": {},
   "outputs": [],
   "source": []
  },
  {
   "cell_type": "markdown",
   "metadata": {},
   "source": [
    "#### annually"
   ]
  },
  {
   "cell_type": "code",
   "execution_count": 72,
   "metadata": {},
   "outputs": [],
   "source": [
    "citation_count_3YPub_annual = authorship.\\\n",
    "    join(researcher_annual_df.select('researcher_id', 'YearBefore'), on = 'researcher_id', how = 'inner').\\\n",
    "    join(pub_idx_nopp, how = 'inner', on = 'publication_id').\\\n",
    "    join(citations, 'publication_id', 'inner').\\\n",
    "    join(pub_idx_nopp.select(fn.col('publication_id').alias('citing_publication_id')), 'citing_publication_id', 'inner').\\\n",
    "    where((fn.col('year') <= fn.col('YearBefore')) & (fn.col('year') > (fn.col('YearBefore') - fn.lit(3)))).\\\n",
    "    groupby('researcher_id', 'YearBefore').count().withColumnRenamed('count', 'citation_count_3YPub')"
   ]
  },
  {
   "cell_type": "code",
   "execution_count": 73,
   "metadata": {},
   "outputs": [],
   "source": [
    "citation_count_5YPub_annual = authorship.\\\n",
    "    join(researcher_annual_df.select('researcher_id', 'YearBefore'), on = 'researcher_id', how = 'inner').\\\n",
    "    join(pub_idx_nopp, how = 'inner', on = 'publication_id').\\\n",
    "    join(citations, 'publication_id', 'inner').\\\n",
    "    join(pub_idx_nopp.select(fn.col('publication_id').alias('citing_publication_id')), 'citing_publication_id', 'inner').\\\n",
    "    where((fn.col('year') <= fn.col('YearBefore')) & (fn.col('year') > (fn.col('YearBefore') - fn.lit(5)))).\\\n",
    "    groupby('researcher_id', 'YearBefore').count().withColumnRenamed('count', 'citation_count_5YPub')"
   ]
  },
  {
   "cell_type": "code",
   "execution_count": 74,
   "metadata": {},
   "outputs": [],
   "source": [
    "citation_count_10YPub_annual = authorship.\\\n",
    "    join(researcher_annual_df.select('researcher_id', 'YearBefore'), on = 'researcher_id', how = 'inner').\\\n",
    "    join(pub_idx_nopp, how = 'inner', on = 'publication_id').\\\n",
    "    join(citations, 'publication_id', 'inner').\\\n",
    "    join(pub_idx_nopp.select(fn.col('publication_id').alias('citing_publication_id')), 'citing_publication_id', 'inner').\\\n",
    "    where((fn.col('year') <= fn.col('YearBefore')) & (fn.col('year') > (fn.col('YearBefore') - fn.lit(10)))).\\\n",
    "    groupby('researcher_id', 'YearBefore').count().withColumnRenamed('count', 'citation_count_10YPub')"
   ]
  },
  {
   "cell_type": "code",
   "execution_count": null,
   "metadata": {},
   "outputs": [],
   "source": []
  },
  {
   "cell_type": "markdown",
   "metadata": {},
   "source": [
    "### Citation Received Count by Cited Paper Publication Year and by Citing Paper Citing Year"
   ]
  },
  {
   "cell_type": "code",
   "execution_count": 75,
   "metadata": {},
   "outputs": [],
   "source": [
    "citation_count_3YPubCite = authorship.\\\n",
    "    join(df.select('researcher_id', 'YearBefore'), on = 'researcher_id', how = 'inner').\\\n",
    "    join(pub_idx_nopp, how = 'inner', on = 'publication_id').\\\n",
    "    join(citations, 'publication_id', 'inner').\\\n",
    "    join(pub_idx_nopp.select(fn.col('publication_id').alias('citing_publication_id'), fn.col('year').alias('citing_year')), 'citing_publication_id', 'inner').\\\n",
    "    where((fn.col('year') <= fn.col('YearBefore')) & (fn.col('year') >= (fn.col('YearBefore') - fn.lit(3)))).\\\n",
    "    where((fn.col('citing_year') <= fn.col('YearBefore')) & (fn.col('citing_year') > (fn.col('YearBefore') - fn.lit(3)))).\\\n",
    "    groupby('researcher_id', 'YearBefore').count().withColumnRenamed('count', 'citation_count_3YPubCite')"
   ]
  },
  {
   "cell_type": "code",
   "execution_count": 76,
   "metadata": {},
   "outputs": [],
   "source": [
    "citation_count_5YPubCite = authorship.\\\n",
    "    join(df.select('researcher_id', 'YearBefore'), on = 'researcher_id', how = 'inner').\\\n",
    "    join(pub_idx_nopp, how = 'inner', on = 'publication_id').\\\n",
    "    join(citations, 'publication_id', 'inner').\\\n",
    "    join(pub_idx_nopp.select(fn.col('publication_id').alias('citing_publication_id'), fn.col('year').alias('citing_year')), 'citing_publication_id', 'inner').\\\n",
    "    where((fn.col('year') <= fn.col('YearBefore')) & (fn.col('year') >= (fn.col('YearBefore') - fn.lit(5)))).\\\n",
    "    where((fn.col('citing_year') <= fn.col('YearBefore')) & (fn.col('citing_year') > (fn.col('YearBefore') - fn.lit(5)))).\\\n",
    "    groupby('researcher_id', 'YearBefore').count().withColumnRenamed('count', 'citation_count_5YPubCite')"
   ]
  },
  {
   "cell_type": "code",
   "execution_count": 77,
   "metadata": {},
   "outputs": [],
   "source": [
    "citation_count_10YPubCite = authorship.\\\n",
    "    join(df.select('researcher_id', 'YearBefore'), on = 'researcher_id', how = 'inner').\\\n",
    "    join(pub_idx_nopp, how = 'inner', on = 'publication_id').\\\n",
    "    join(citations, 'publication_id', 'inner').\\\n",
    "    join(pub_idx_nopp.select(fn.col('publication_id').alias('citing_publication_id'), fn.col('year').alias('citing_year')), 'citing_publication_id', 'inner').\\\n",
    "    where((fn.col('year') <= fn.col('YearBefore')) & (fn.col('year') >= (fn.col('YearBefore') - fn.lit(10)))).\\\n",
    "    where((fn.col('citing_year') <= fn.col('YearBefore')) & (fn.col('citing_year') > (fn.col('YearBefore') - fn.lit(10)))).\\\n",
    "    groupby('researcher_id', 'YearBefore').count().withColumnRenamed('count', 'citation_count_10YPubCite')"
   ]
  },
  {
   "cell_type": "code",
   "execution_count": null,
   "metadata": {},
   "outputs": [],
   "source": []
  },
  {
   "cell_type": "markdown",
   "metadata": {},
   "source": [
    "#### annually"
   ]
  },
  {
   "cell_type": "code",
   "execution_count": 78,
   "metadata": {},
   "outputs": [],
   "source": [
    "citation_count_3YPubCite_annual = authorship.\\\n",
    "    join(researcher_annual_df.select('researcher_id', 'YearBefore'), on = 'researcher_id', how = 'inner').\\\n",
    "    join(pub_idx_nopp, how = 'inner', on = 'publication_id').\\\n",
    "    join(citations, 'publication_id', 'inner').\\\n",
    "    join(pub_idx_nopp.select(fn.col('publication_id').alias('citing_publication_id'), fn.col('year').alias('citing_year')), 'citing_publication_id', 'inner').\\\n",
    "    where((fn.col('year') <= fn.col('YearBefore')) & (fn.col('year') >= (fn.col('YearBefore') - fn.lit(3)))).\\\n",
    "    where((fn.col('citing_year') <= fn.col('YearBefore')) & (fn.col('citing_year') > (fn.col('YearBefore') - fn.lit(3)))).\\\n",
    "    groupby('researcher_id', 'YearBefore').count().withColumnRenamed('count', 'citation_count_3YPubCite')"
   ]
  },
  {
   "cell_type": "code",
   "execution_count": 79,
   "metadata": {},
   "outputs": [],
   "source": [
    "citation_count_5YPubCite_annual = authorship.\\\n",
    "    join(researcher_annual_df.select('researcher_id', 'YearBefore'), on = 'researcher_id', how = 'inner').\\\n",
    "    join(pub_idx_nopp, how = 'inner', on = 'publication_id').\\\n",
    "    join(citations, 'publication_id', 'inner').\\\n",
    "    join(pub_idx_nopp.select(fn.col('publication_id').alias('citing_publication_id'), fn.col('year').alias('citing_year')), 'citing_publication_id', 'inner').\\\n",
    "    where((fn.col('year') <= fn.col('YearBefore')) & (fn.col('year') >= (fn.col('YearBefore') - fn.lit(5)))).\\\n",
    "    where((fn.col('citing_year') <= fn.col('YearBefore')) & (fn.col('citing_year') > (fn.col('YearBefore') - fn.lit(5)))).\\\n",
    "    groupby('researcher_id', 'YearBefore').count().withColumnRenamed('count', 'citation_count_5YPubCite')"
   ]
  },
  {
   "cell_type": "code",
   "execution_count": 80,
   "metadata": {},
   "outputs": [],
   "source": [
    "citation_count_10YPubCite_annual = authorship.\\\n",
    "    join(researcher_annual_df.select('researcher_id', 'YearBefore'), on = 'researcher_id', how = 'inner').\\\n",
    "    join(pub_idx_nopp, how = 'inner', on = 'publication_id').\\\n",
    "    join(citations, 'publication_id', 'inner').\\\n",
    "    join(pub_idx_nopp.select(fn.col('publication_id').alias('citing_publication_id'), fn.col('year').alias('citing_year')), 'citing_publication_id', 'inner').\\\n",
    "    where((fn.col('year') <= fn.col('YearBefore')) & (fn.col('year') >= (fn.col('YearBefore') - fn.lit(10)))).\\\n",
    "    where((fn.col('citing_year') <= fn.col('YearBefore')) & (fn.col('citing_year') > (fn.col('YearBefore') - fn.lit(10)))).\\\n",
    "    groupby('researcher_id', 'YearBefore').count().withColumnRenamed('count', 'citation_count_10YPubCite')"
   ]
  },
  {
   "cell_type": "code",
   "execution_count": null,
   "metadata": {},
   "outputs": [],
   "source": []
  },
  {
   "cell_type": "markdown",
   "metadata": {},
   "source": [
    "### The Number of Unique Co-Authors"
   ]
  },
  {
   "cell_type": "code",
   "execution_count": 81,
   "metadata": {},
   "outputs": [],
   "source": [
    "coauthor_count = df.\\\n",
    "    select('researcher_id', 'YearBefore').\\\n",
    "    join(authorship, 'researcher_id', 'inner').\\\n",
    "    join(publications.select(fn.col('id').alias('publication_id'), 'year'), 'publication_id', 'inner').\\\n",
    "    where(fn.col('year') <= fn.col('YearBefore')).\\\n",
    "    join(authorship.withColumnRenamed('researcher_id', 'coauthor_id'), 'publication_id', 'inner').\\\n",
    "    where(fn.col('researcher_id') != fn.col('coauthor_id')).\\\n",
    "    select('researcher_id', 'coauthor_id', 'YearBefore').drop_duplicates().\\\n",
    "    groupby('researcher_id', 'YearBefore').count().withColumnRenamed('count', 'coauthor_count')"
   ]
  },
  {
   "cell_type": "code",
   "execution_count": 82,
   "metadata": {},
   "outputs": [],
   "source": [
    "coauthor_count3Y = df.\\\n",
    "    select('researcher_id', 'YearBefore').\\\n",
    "    join(authorship, 'researcher_id', 'inner').\\\n",
    "    join(publications.select(fn.col('id').alias('publication_id'), 'year'), 'publication_id', 'inner').\\\n",
    "    where((fn.col('year') <= fn.col('YearBefore')) & (fn.col('year') > (fn.col('YearBefore') - fn.lit(3)))).\\\n",
    "    join(authorship.withColumnRenamed('researcher_id', 'coauthor_id'), 'publication_id', 'inner').\\\n",
    "    where(fn.col('researcher_id') != fn.col('coauthor_id')).\\\n",
    "    select('researcher_id', 'coauthor_id', 'YearBefore').drop_duplicates().\\\n",
    "    groupby('researcher_id', 'YearBefore').count().withColumnRenamed('count', 'coauthor_count3Y')"
   ]
  },
  {
   "cell_type": "code",
   "execution_count": 83,
   "metadata": {},
   "outputs": [],
   "source": [
    "coauthor_count5Y = df.\\\n",
    "    select('researcher_id', 'YearBefore').\\\n",
    "    join(authorship, 'researcher_id', 'inner').\\\n",
    "    join(publications.select(fn.col('id').alias('publication_id'), 'year'), 'publication_id', 'inner').\\\n",
    "    where((fn.col('year') <= fn.col('YearBefore')) & (fn.col('year') > (fn.col('YearBefore') - fn.lit(5)))).\\\n",
    "    join(authorship.withColumnRenamed('researcher_id', 'coauthor_id'), 'publication_id', 'inner').\\\n",
    "    where(fn.col('researcher_id') != fn.col('coauthor_id')).\\\n",
    "    select('researcher_id', 'coauthor_id', 'YearBefore').drop_duplicates().\\\n",
    "    groupby('researcher_id', 'YearBefore').count().withColumnRenamed('count', 'coauthor_count5Y')"
   ]
  },
  {
   "cell_type": "code",
   "execution_count": 84,
   "metadata": {},
   "outputs": [],
   "source": [
    "coauthor_count10Y = df.\\\n",
    "    select('researcher_id', 'YearBefore').\\\n",
    "    join(authorship, 'researcher_id', 'inner').\\\n",
    "    join(publications.select(fn.col('id').alias('publication_id'), 'year'), 'publication_id', 'inner').\\\n",
    "    where((fn.col('year') <= fn.col('YearBefore')) & (fn.col('year') > (fn.col('YearBefore') - fn.lit(10)))).\\\n",
    "    join(authorship.withColumnRenamed('researcher_id', 'coauthor_id'), 'publication_id', 'inner').\\\n",
    "    where(fn.col('researcher_id') != fn.col('coauthor_id')).\\\n",
    "    select('researcher_id', 'coauthor_id', 'YearBefore').drop_duplicates().\\\n",
    "    groupby('researcher_id', 'YearBefore').count().withColumnRenamed('count', 'coauthor_count10Y')"
   ]
  },
  {
   "cell_type": "code",
   "execution_count": 85,
   "metadata": {
    "scrolled": true
   },
   "outputs": [],
   "source": [
    "researcher_bibliometrics = researcher_academic_startyear_df.\\\n",
    "    join(publication_count, ['researcher_id', 'YearBefore'], 'left').\\\n",
    "    join(publication_count_3Y, ['researcher_id', 'YearBefore'], 'left').\\\n",
    "    join(publication_count_5Y, ['researcher_id', 'YearBefore'], 'left').\\\n",
    "    join(publication_count_10Y, ['researcher_id', 'YearBefore'], 'left').\\\n",
    "    join(citation_count, ['researcher_id', 'YearBefore'], 'left').\\\n",
    "    join(citation_count_3Y, ['researcher_id', 'YearBefore'], 'left').\\\n",
    "    join(citation_count_5Y, ['researcher_id', 'YearBefore'], 'left').\\\n",
    "    join(citation_count_10Y, ['researcher_id', 'YearBefore'], 'left').\\\n",
    "    join(citation_count_3YPub, ['researcher_id', 'YearBefore'], 'left').\\\n",
    "    join(citation_count_5YPub, ['researcher_id', 'YearBefore'], 'left').\\\n",
    "    join(citation_count_10YPub, ['researcher_id', 'YearBefore'], 'left').\\\n",
    "    join(citation_count_3YPubCite, ['researcher_id', 'YearBefore'], 'left').\\\n",
    "    join(citation_count_5YPubCite, ['researcher_id', 'YearBefore'], 'left').\\\n",
    "    join(citation_count_10YPubCite, ['researcher_id', 'YearBefore'], 'left').\\\n",
    "    join(coauthor_count, ['researcher_id', 'YearBefore'], 'left').\\\n",
    "    join(coauthor_count3Y, ['researcher_id', 'YearBefore'], 'left').\\\n",
    "    join(coauthor_count5Y, ['researcher_id', 'YearBefore'], 'left').\\\n",
    "    join(coauthor_count10Y, ['researcher_id', 'YearBefore'], 'left').\\\n",
    "    fillna(0).toPandas()"
   ]
  },
  {
   "cell_type": "code",
   "execution_count": 86,
   "metadata": {},
   "outputs": [],
   "source": [
    "researcher_bibliometrics.to_csv('./data/researcher_bibliometrics.csv', index = False)"
   ]
  },
  {
   "cell_type": "code",
   "execution_count": 6,
   "metadata": {},
   "outputs": [],
   "source": [
    "researcher_bibliometrics = pd.read_csv('../sloan/data/researcher_bibliometrics.csv')"
   ]
  },
  {
   "cell_type": "code",
   "execution_count": null,
   "metadata": {},
   "outputs": [],
   "source": []
  },
  {
   "cell_type": "markdown",
   "metadata": {},
   "source": [
    "#### annually"
   ]
  },
  {
   "cell_type": "code",
   "execution_count": 87,
   "metadata": {},
   "outputs": [],
   "source": [
    "coauthor_count_annual = researcher_annual_df.\\\n",
    "    select('researcher_id', 'YearBefore').\\\n",
    "    join(authorship, 'researcher_id', 'inner').\\\n",
    "    join(publications.select(fn.col('id').alias('publication_id'), 'year'), 'publication_id', 'inner').\\\n",
    "    where(fn.col('year') <= fn.col('YearBefore')).\\\n",
    "    join(authorship.withColumnRenamed('researcher_id', 'coauthor_id'), 'publication_id', 'inner').\\\n",
    "    where(fn.col('researcher_id') != fn.col('coauthor_id')).\\\n",
    "    select('researcher_id', 'coauthor_id', 'YearBefore').drop_duplicates().\\\n",
    "    groupby('researcher_id', 'YearBefore').count().withColumnRenamed('count', 'coauthor_count')"
   ]
  },
  {
   "cell_type": "code",
   "execution_count": 88,
   "metadata": {},
   "outputs": [],
   "source": [
    "coauthor_count3Y_annual = researcher_annual_df.\\\n",
    "    select('researcher_id', 'YearBefore').\\\n",
    "    join(authorship, 'researcher_id', 'inner').\\\n",
    "    join(publications.select(fn.col('id').alias('publication_id'), 'year'), 'publication_id', 'inner').\\\n",
    "    where((fn.col('year') <= fn.col('YearBefore')) & (fn.col('year') > (fn.col('YearBefore') - fn.lit(3)))).\\\n",
    "    join(authorship.withColumnRenamed('researcher_id', 'coauthor_id'), 'publication_id', 'inner').\\\n",
    "    where(fn.col('researcher_id') != fn.col('coauthor_id')).\\\n",
    "    select('researcher_id', 'coauthor_id', 'YearBefore').drop_duplicates().\\\n",
    "    groupby('researcher_id', 'YearBefore').count().withColumnRenamed('count', 'coauthor_count3Y')"
   ]
  },
  {
   "cell_type": "code",
   "execution_count": 89,
   "metadata": {},
   "outputs": [],
   "source": [
    "coauthor_count5Y_annual = researcher_annual_df.\\\n",
    "    select('researcher_id', 'YearBefore').\\\n",
    "    join(authorship, 'researcher_id', 'inner').\\\n",
    "    join(publications.select(fn.col('id').alias('publication_id'), 'year'), 'publication_id', 'inner').\\\n",
    "    where((fn.col('year') <= fn.col('YearBefore')) & (fn.col('year') > (fn.col('YearBefore') - fn.lit(5)))).\\\n",
    "    join(authorship.withColumnRenamed('researcher_id', 'coauthor_id'), 'publication_id', 'inner').\\\n",
    "    where(fn.col('researcher_id') != fn.col('coauthor_id')).\\\n",
    "    select('researcher_id', 'coauthor_id', 'YearBefore').drop_duplicates().\\\n",
    "    groupby('researcher_id', 'YearBefore').count().withColumnRenamed('count', 'coauthor_count5Y')"
   ]
  },
  {
   "cell_type": "code",
   "execution_count": 90,
   "metadata": {},
   "outputs": [],
   "source": [
    "coauthor_count10Y_annual = researcher_annual_df.\\\n",
    "    select('researcher_id', 'YearBefore').\\\n",
    "    join(authorship, 'researcher_id', 'inner').\\\n",
    "    join(publications.select(fn.col('id').alias('publication_id'), 'year'), 'publication_id', 'inner').\\\n",
    "    where((fn.col('year') <= fn.col('YearBefore')) & (fn.col('year') > (fn.col('YearBefore') - fn.lit(10)))).\\\n",
    "    join(authorship.withColumnRenamed('researcher_id', 'coauthor_id'), 'publication_id', 'inner').\\\n",
    "    where(fn.col('researcher_id') != fn.col('coauthor_id')).\\\n",
    "    select('researcher_id', 'coauthor_id', 'YearBefore').drop_duplicates().\\\n",
    "    groupby('researcher_id', 'YearBefore').count().withColumnRenamed('count', 'coauthor_count10Y')"
   ]
  },
  {
   "cell_type": "code",
   "execution_count": null,
   "metadata": {},
   "outputs": [],
   "source": []
  },
  {
   "cell_type": "code",
   "execution_count": 91,
   "metadata": {},
   "outputs": [],
   "source": [
    "researcher_bibliometrics_annual = researcher_annual_df.\\\n",
    "    join(publication_count_annual, ['researcher_id', 'YearBefore'], 'left').\\\n",
    "    join(publication_count_3Y_annual, ['researcher_id', 'YearBefore'], 'left').\\\n",
    "    join(publication_count_5Y_annual, ['researcher_id', 'YearBefore'], 'left').\\\n",
    "    join(publication_count_10Y_annual, ['researcher_id', 'YearBefore'], 'left').\\\n",
    "    join(citation_count_annual, ['researcher_id', 'YearBefore'], 'left').\\\n",
    "    join(citation_count_3Y_annual, ['researcher_id', 'YearBefore'], 'left').\\\n",
    "    join(citation_count_5Y_annual, ['researcher_id', 'YearBefore'], 'left').\\\n",
    "    join(citation_count_10Y_annual, ['researcher_id', 'YearBefore'], 'left').\\\n",
    "    join(citation_count_3YPub_annual, ['researcher_id', 'YearBefore'], 'left').\\\n",
    "    join(citation_count_5YPub_annual, ['researcher_id', 'YearBefore'], 'left').\\\n",
    "    join(citation_count_10YPub_annual, ['researcher_id', 'YearBefore'], 'left').\\\n",
    "    join(citation_count_3YPubCite_annual, ['researcher_id', 'YearBefore'], 'left').\\\n",
    "    join(citation_count_5YPubCite_annual, ['researcher_id', 'YearBefore'], 'left').\\\n",
    "    join(citation_count_10YPubCite_annual, ['researcher_id', 'YearBefore'], 'left').\\\n",
    "    join(coauthor_count_annual, ['researcher_id', 'YearBefore'], 'left').\\\n",
    "    join(coauthor_count3Y_annual, ['researcher_id', 'YearBefore'], 'left').\\\n",
    "    join(coauthor_count5Y_annual, ['researcher_id', 'YearBefore'], 'left').\\\n",
    "    join(coauthor_count10Y_annual, ['researcher_id', 'YearBefore'], 'left').\\\n",
    "    fillna(0).toPandas()"
   ]
  },
  {
   "cell_type": "code",
   "execution_count": 92,
   "metadata": {},
   "outputs": [],
   "source": [
    "researcher_bibliometrics_annual.sort_values(by = ['researcher_id', 'YearBefore']).to_csv('./data/researcher_annual_bibliometrics.csv', index = False)"
   ]
  },
  {
   "cell_type": "code",
   "execution_count": 8,
   "metadata": {},
   "outputs": [],
   "source": [
    "researcher_bibliometrics_annual = pd.read_csv('../sloan/data/researcher_annual_bibliometrics.csv')"
   ]
  },
  {
   "cell_type": "code",
   "execution_count": 9,
   "metadata": {
    "collapsed": true
   },
   "outputs": [
    {
     "data": {
      "text/html": [
       "<div>\n",
       "<style scoped>\n",
       "    .dataframe tbody tr th:only-of-type {\n",
       "        vertical-align: middle;\n",
       "    }\n",
       "\n",
       "    .dataframe tbody tr th {\n",
       "        vertical-align: top;\n",
       "    }\n",
       "\n",
       "    .dataframe thead th {\n",
       "        text-align: right;\n",
       "    }\n",
       "</style>\n",
       "<table border=\"1\" class=\"dataframe\">\n",
       "  <thead>\n",
       "    <tr style=\"text-align: right;\">\n",
       "      <th></th>\n",
       "      <th>researcher_id</th>\n",
       "      <th>YearBefore</th>\n",
       "      <th>publication_count</th>\n",
       "      <th>publication_count_3Y</th>\n",
       "      <th>publication_count_5Y</th>\n",
       "      <th>publication_count_10Y</th>\n",
       "      <th>citation_count</th>\n",
       "      <th>citation_count_3Y</th>\n",
       "      <th>citation_count_5Y</th>\n",
       "      <th>citation_count_10Y</th>\n",
       "      <th>citation_count_3YPub</th>\n",
       "      <th>citation_count_5YPub</th>\n",
       "      <th>citation_count_10YPub</th>\n",
       "      <th>citation_count_3YPubCite</th>\n",
       "      <th>citation_count_5YPubCite</th>\n",
       "      <th>citation_count_10YPubCite</th>\n",
       "      <th>coauthor_count</th>\n",
       "      <th>coauthor_count3Y</th>\n",
       "      <th>coauthor_count5Y</th>\n",
       "      <th>coauthor_count10Y</th>\n",
       "    </tr>\n",
       "  </thead>\n",
       "  <tbody>\n",
       "    <tr>\n",
       "      <th>0</th>\n",
       "      <td>ur.01000273107.88</td>\n",
       "      <td>1981</td>\n",
       "      <td>2</td>\n",
       "      <td>2</td>\n",
       "      <td>2</td>\n",
       "      <td>2</td>\n",
       "      <td>0</td>\n",
       "      <td>0</td>\n",
       "      <td>0</td>\n",
       "      <td>0</td>\n",
       "      <td>0</td>\n",
       "      <td>0</td>\n",
       "      <td>0</td>\n",
       "      <td>0</td>\n",
       "      <td>0</td>\n",
       "      <td>0</td>\n",
       "      <td>2</td>\n",
       "      <td>2</td>\n",
       "      <td>2</td>\n",
       "      <td>2</td>\n",
       "    </tr>\n",
       "    <tr>\n",
       "      <th>1</th>\n",
       "      <td>ur.01000273107.88</td>\n",
       "      <td>1982</td>\n",
       "      <td>2</td>\n",
       "      <td>2</td>\n",
       "      <td>2</td>\n",
       "      <td>2</td>\n",
       "      <td>0</td>\n",
       "      <td>0</td>\n",
       "      <td>0</td>\n",
       "      <td>0</td>\n",
       "      <td>0</td>\n",
       "      <td>0</td>\n",
       "      <td>0</td>\n",
       "      <td>0</td>\n",
       "      <td>0</td>\n",
       "      <td>0</td>\n",
       "      <td>2</td>\n",
       "      <td>2</td>\n",
       "      <td>2</td>\n",
       "      <td>2</td>\n",
       "    </tr>\n",
       "    <tr>\n",
       "      <th>2</th>\n",
       "      <td>ur.01000273107.88</td>\n",
       "      <td>1983</td>\n",
       "      <td>4</td>\n",
       "      <td>4</td>\n",
       "      <td>4</td>\n",
       "      <td>4</td>\n",
       "      <td>0</td>\n",
       "      <td>0</td>\n",
       "      <td>0</td>\n",
       "      <td>0</td>\n",
       "      <td>0</td>\n",
       "      <td>0</td>\n",
       "      <td>0</td>\n",
       "      <td>0</td>\n",
       "      <td>0</td>\n",
       "      <td>0</td>\n",
       "      <td>3</td>\n",
       "      <td>3</td>\n",
       "      <td>3</td>\n",
       "      <td>3</td>\n",
       "    </tr>\n",
       "    <tr>\n",
       "      <th>3</th>\n",
       "      <td>ur.01000273107.88</td>\n",
       "      <td>1984</td>\n",
       "      <td>4</td>\n",
       "      <td>2</td>\n",
       "      <td>4</td>\n",
       "      <td>4</td>\n",
       "      <td>0</td>\n",
       "      <td>0</td>\n",
       "      <td>0</td>\n",
       "      <td>0</td>\n",
       "      <td>0</td>\n",
       "      <td>0</td>\n",
       "      <td>0</td>\n",
       "      <td>0</td>\n",
       "      <td>0</td>\n",
       "      <td>0</td>\n",
       "      <td>3</td>\n",
       "      <td>3</td>\n",
       "      <td>3</td>\n",
       "      <td>3</td>\n",
       "    </tr>\n",
       "    <tr>\n",
       "      <th>4</th>\n",
       "      <td>ur.01000273107.88</td>\n",
       "      <td>1985</td>\n",
       "      <td>5</td>\n",
       "      <td>3</td>\n",
       "      <td>5</td>\n",
       "      <td>5</td>\n",
       "      <td>0</td>\n",
       "      <td>0</td>\n",
       "      <td>0</td>\n",
       "      <td>0</td>\n",
       "      <td>0</td>\n",
       "      <td>0</td>\n",
       "      <td>0</td>\n",
       "      <td>0</td>\n",
       "      <td>0</td>\n",
       "      <td>0</td>\n",
       "      <td>3</td>\n",
       "      <td>3</td>\n",
       "      <td>3</td>\n",
       "      <td>3</td>\n",
       "    </tr>\n",
       "    <tr>\n",
       "      <th>...</th>\n",
       "      <td>...</td>\n",
       "      <td>...</td>\n",
       "      <td>...</td>\n",
       "      <td>...</td>\n",
       "      <td>...</td>\n",
       "      <td>...</td>\n",
       "      <td>...</td>\n",
       "      <td>...</td>\n",
       "      <td>...</td>\n",
       "      <td>...</td>\n",
       "      <td>...</td>\n",
       "      <td>...</td>\n",
       "      <td>...</td>\n",
       "      <td>...</td>\n",
       "      <td>...</td>\n",
       "      <td>...</td>\n",
       "      <td>...</td>\n",
       "      <td>...</td>\n",
       "      <td>...</td>\n",
       "      <td>...</td>\n",
       "    </tr>\n",
       "    <tr>\n",
       "      <th>54684</th>\n",
       "      <td>ur.0777742233.90</td>\n",
       "      <td>2017</td>\n",
       "      <td>427</td>\n",
       "      <td>46</td>\n",
       "      <td>79</td>\n",
       "      <td>139</td>\n",
       "      <td>11461</td>\n",
       "      <td>2368</td>\n",
       "      <td>3772</td>\n",
       "      <td>7057</td>\n",
       "      <td>654</td>\n",
       "      <td>1341</td>\n",
       "      <td>2597</td>\n",
       "      <td>333</td>\n",
       "      <td>733</td>\n",
       "      <td>1601</td>\n",
       "      <td>321</td>\n",
       "      <td>76</td>\n",
       "      <td>98</td>\n",
       "      <td>141</td>\n",
       "    </tr>\n",
       "    <tr>\n",
       "      <th>54685</th>\n",
       "      <td>ur.0777742233.90</td>\n",
       "      <td>2018</td>\n",
       "      <td>433</td>\n",
       "      <td>33</td>\n",
       "      <td>68</td>\n",
       "      <td>132</td>\n",
       "      <td>12204</td>\n",
       "      <td>2362</td>\n",
       "      <td>3825</td>\n",
       "      <td>7111</td>\n",
       "      <td>266</td>\n",
       "      <td>904</td>\n",
       "      <td>2248</td>\n",
       "      <td>333</td>\n",
       "      <td>823</td>\n",
       "      <td>1801</td>\n",
       "      <td>328</td>\n",
       "      <td>58</td>\n",
       "      <td>94</td>\n",
       "      <td>135</td>\n",
       "    </tr>\n",
       "    <tr>\n",
       "      <th>54686</th>\n",
       "      <td>ur.0777742233.90</td>\n",
       "      <td>2019</td>\n",
       "      <td>444</td>\n",
       "      <td>27</td>\n",
       "      <td>63</td>\n",
       "      <td>133</td>\n",
       "      <td>12874</td>\n",
       "      <td>2201</td>\n",
       "      <td>3781</td>\n",
       "      <td>7206</td>\n",
       "      <td>137</td>\n",
       "      <td>747</td>\n",
       "      <td>2172</td>\n",
       "      <td>149</td>\n",
       "      <td>637</td>\n",
       "      <td>1729</td>\n",
       "      <td>333</td>\n",
       "      <td>40</td>\n",
       "      <td>91</td>\n",
       "      <td>135</td>\n",
       "    </tr>\n",
       "    <tr>\n",
       "      <th>54687</th>\n",
       "      <td>ur.0777742233.90</td>\n",
       "      <td>2020</td>\n",
       "      <td>449</td>\n",
       "      <td>22</td>\n",
       "      <td>49</td>\n",
       "      <td>125</td>\n",
       "      <td>13475</td>\n",
       "      <td>2014</td>\n",
       "      <td>3633</td>\n",
       "      <td>7111</td>\n",
       "      <td>127</td>\n",
       "      <td>353</td>\n",
       "      <td>1962</td>\n",
       "      <td>85</td>\n",
       "      <td>575</td>\n",
       "      <td>1850</td>\n",
       "      <td>341</td>\n",
       "      <td>41</td>\n",
       "      <td>72</td>\n",
       "      <td>133</td>\n",
       "    </tr>\n",
       "    <tr>\n",
       "      <th>54688</th>\n",
       "      <td>ur.0777742233.90</td>\n",
       "      <td>2021</td>\n",
       "      <td>454</td>\n",
       "      <td>21</td>\n",
       "      <td>37</td>\n",
       "      <td>123</td>\n",
       "      <td>14054</td>\n",
       "      <td>1850</td>\n",
       "      <td>3381</td>\n",
       "      <td>7059</td>\n",
       "      <td>92</td>\n",
       "      <td>176</td>\n",
       "      <td>1735</td>\n",
       "      <td>104</td>\n",
       "      <td>312</td>\n",
       "      <td>1860</td>\n",
       "      <td>343</td>\n",
       "      <td>32</td>\n",
       "      <td>51</td>\n",
       "      <td>126</td>\n",
       "    </tr>\n",
       "  </tbody>\n",
       "</table>\n",
       "<p>54689 rows × 20 columns</p>\n",
       "</div>"
      ],
      "text/plain": [
       "           researcher_id  YearBefore  publication_count  publication_count_3Y  \\\n",
       "0      ur.01000273107.88        1981                  2                     2   \n",
       "1      ur.01000273107.88        1982                  2                     2   \n",
       "2      ur.01000273107.88        1983                  4                     4   \n",
       "3      ur.01000273107.88        1984                  4                     2   \n",
       "4      ur.01000273107.88        1985                  5                     3   \n",
       "...                  ...         ...                ...                   ...   \n",
       "54684   ur.0777742233.90        2017                427                    46   \n",
       "54685   ur.0777742233.90        2018                433                    33   \n",
       "54686   ur.0777742233.90        2019                444                    27   \n",
       "54687   ur.0777742233.90        2020                449                    22   \n",
       "54688   ur.0777742233.90        2021                454                    21   \n",
       "\n",
       "       publication_count_5Y  publication_count_10Y  citation_count  \\\n",
       "0                         2                      2               0   \n",
       "1                         2                      2               0   \n",
       "2                         4                      4               0   \n",
       "3                         4                      4               0   \n",
       "4                         5                      5               0   \n",
       "...                     ...                    ...             ...   \n",
       "54684                    79                    139           11461   \n",
       "54685                    68                    132           12204   \n",
       "54686                    63                    133           12874   \n",
       "54687                    49                    125           13475   \n",
       "54688                    37                    123           14054   \n",
       "\n",
       "       citation_count_3Y  citation_count_5Y  citation_count_10Y  \\\n",
       "0                      0                  0                   0   \n",
       "1                      0                  0                   0   \n",
       "2                      0                  0                   0   \n",
       "3                      0                  0                   0   \n",
       "4                      0                  0                   0   \n",
       "...                  ...                ...                 ...   \n",
       "54684               2368               3772                7057   \n",
       "54685               2362               3825                7111   \n",
       "54686               2201               3781                7206   \n",
       "54687               2014               3633                7111   \n",
       "54688               1850               3381                7059   \n",
       "\n",
       "       citation_count_3YPub  citation_count_5YPub  citation_count_10YPub  \\\n",
       "0                         0                     0                      0   \n",
       "1                         0                     0                      0   \n",
       "2                         0                     0                      0   \n",
       "3                         0                     0                      0   \n",
       "4                         0                     0                      0   \n",
       "...                     ...                   ...                    ...   \n",
       "54684                   654                  1341                   2597   \n",
       "54685                   266                   904                   2248   \n",
       "54686                   137                   747                   2172   \n",
       "54687                   127                   353                   1962   \n",
       "54688                    92                   176                   1735   \n",
       "\n",
       "       citation_count_3YPubCite  citation_count_5YPubCite  \\\n",
       "0                             0                         0   \n",
       "1                             0                         0   \n",
       "2                             0                         0   \n",
       "3                             0                         0   \n",
       "4                             0                         0   \n",
       "...                         ...                       ...   \n",
       "54684                       333                       733   \n",
       "54685                       333                       823   \n",
       "54686                       149                       637   \n",
       "54687                        85                       575   \n",
       "54688                       104                       312   \n",
       "\n",
       "       citation_count_10YPubCite  coauthor_count  coauthor_count3Y  \\\n",
       "0                              0               2                 2   \n",
       "1                              0               2                 2   \n",
       "2                              0               3                 3   \n",
       "3                              0               3                 3   \n",
       "4                              0               3                 3   \n",
       "...                          ...             ...               ...   \n",
       "54684                       1601             321                76   \n",
       "54685                       1801             328                58   \n",
       "54686                       1729             333                40   \n",
       "54687                       1850             341                41   \n",
       "54688                       1860             343                32   \n",
       "\n",
       "       coauthor_count5Y  coauthor_count10Y  \n",
       "0                     2                  2  \n",
       "1                     2                  2  \n",
       "2                     3                  3  \n",
       "3                     3                  3  \n",
       "4                     3                  3  \n",
       "...                 ...                ...  \n",
       "54684                98                141  \n",
       "54685                94                135  \n",
       "54686                91                135  \n",
       "54687                72                133  \n",
       "54688                51                126  \n",
       "\n",
       "[54689 rows x 20 columns]"
      ]
     },
     "execution_count": 9,
     "metadata": {},
     "output_type": "execute_result"
    }
   ],
   "source": [
    "researcher_bibliometrics_annual"
   ]
  },
  {
   "cell_type": "code",
   "execution_count": null,
   "metadata": {},
   "outputs": [],
   "source": []
  },
  {
   "cell_type": "code",
   "execution_count": null,
   "metadata": {},
   "outputs": [],
   "source": []
  },
  {
   "cell_type": "markdown",
   "metadata": {},
   "source": [
    "# Bib for potential researchers"
   ]
  },
  {
   "cell_type": "code",
   "execution_count": 11,
   "metadata": {},
   "outputs": [],
   "source": [
    "potential_researchers = spark.read.parquet('./sloan/potential_researchers.parquet')"
   ]
  },
  {
   "cell_type": "code",
   "execution_count": 12,
   "metadata": {},
   "outputs": [],
   "source": [
    "from pyspark.sql.functions import row_number\n",
    "windowSpec  = Window.partitionBy(\"researcher_id\").orderBy(\"year\")\n",
    "\n",
    "researcher_academic_startyear = authorship.\\\n",
    "    join(potential_researchers.select('researcher_id'), on = 'researcher_id', how = 'inner').\\\n",
    "    join(publications.select(fn.col('id').alias('publication_id'), 'year'), how = 'inner', on = 'publication_id').\\\n",
    "    dropna().\\\n",
    "    withColumn(\"row_number\", fn.row_number().over(windowSpec)).\\\n",
    "    where(fn.col('row_number') == 1).\\\n",
    "    select('researcher_id', 'year').\\\n",
    "    drop_duplicates().toPandas()"
   ]
  },
  {
   "cell_type": "code",
   "execution_count": 13,
   "metadata": {},
   "outputs": [],
   "source": [
    "# researcher_academic_startyear.to_csv('./data/potential_researcher_academic_startyear.csv', index = False)\n",
    "researcher_academic_startyear = pd.read_csv('./data/potential_researcher_academic_startyear.csv')"
   ]
  },
  {
   "cell_type": "markdown",
   "metadata": {},
   "source": [
    "### Publication Count"
   ]
  },
  {
   "cell_type": "code",
   "execution_count": 71,
   "metadata": {},
   "outputs": [],
   "source": [
    "pub_idx_nopp = publications.where(fn.col('type') != 'preprint').select(fn.col('id').alias('publication_id'), 'year')"
   ]
  },
  {
   "cell_type": "code",
   "execution_count": 100,
   "metadata": {},
   "outputs": [],
   "source": [
    "windowSpec  = Window.partitionBy(\"researcher_id\")\n",
    "\n",
    "researcher_annual = authorship.\\\n",
    "    join(potential_researchers.select('researcher_id'), on = 'researcher_id', how = 'inner').\\\n",
    "    join(pub_idx_nopp, how = 'inner', on = 'publication_id').\\\n",
    "    select('researcher_id', 'year').drop_duplicates().\\\n",
    "    withColumn(\"min\", fn.min('year').over(windowSpec)).\\\n",
    "    withColumn(\"max\", fn.max('year').over(windowSpec)).\\\n",
    "    select('researcher_id', 'min', 'max').drop_duplicates().toPandas()"
   ]
  },
  {
   "cell_type": "code",
   "execution_count": 106,
   "metadata": {},
   "outputs": [],
   "source": [
    "researcher_annual['min'] = researcher_annual['min'].astype(int)\n",
    "researcher_annual['max'] = researcher_annual['max'].astype(int)"
   ]
  },
  {
   "cell_type": "code",
   "execution_count": 107,
   "metadata": {
    "scrolled": true
   },
   "outputs": [],
   "source": [
    "researcher_annual['YearBefore'] = researcher_annual.apply(lambda x: range(x['min'], x['max'] + 1), axis=1)"
   ]
  },
  {
   "cell_type": "code",
   "execution_count": 108,
   "metadata": {},
   "outputs": [],
   "source": [
    "researcher_annual = researcher_annual.drop(['min', 'max'], axis = 1).explode('YearBefore')"
   ]
  },
  {
   "cell_type": "code",
   "execution_count": 109,
   "metadata": {},
   "outputs": [],
   "source": [
    "researcher_annual = researcher_annual.dropna().reset_index(drop = True)"
   ]
  },
  {
   "cell_type": "code",
   "execution_count": 110,
   "metadata": {},
   "outputs": [],
   "source": [
    "researcher_annual['YearBefore'] = researcher_annual['YearBefore'].astype(int)"
   ]
  },
  {
   "cell_type": "code",
   "execution_count": 111,
   "metadata": {
    "scrolled": true
   },
   "outputs": [],
   "source": [
    "researcher_annual_df = spark.createDataFrame(researcher_annual)"
   ]
  },
  {
   "cell_type": "code",
   "execution_count": 113,
   "metadata": {},
   "outputs": [],
   "source": [
    "researcher_annual_df.write.parquet('./sloan/potential_researcher_annual.parquet', mode = 'overwrite')"
   ]
  },
  {
   "cell_type": "code",
   "execution_count": 114,
   "metadata": {},
   "outputs": [],
   "source": [
    "researcher_annual_df = spark.read.parquet('./sloan/potential_researcher_annual.parquet')"
   ]
  },
  {
   "cell_type": "code",
   "execution_count": 105,
   "metadata": {
    "collapsed": true
   },
   "outputs": [
    {
     "name": "stdout",
     "output_type": "stream",
     "text": [
      "+-----------------+----------+\n",
      "|    researcher_id|YearBefore|\n",
      "+-----------------+----------+\n",
      "|ur.01000000322.68|      2014|\n",
      "|ur.01000000322.68|      2015|\n",
      "|ur.01000000322.68|      2016|\n",
      "|ur.01000000322.68|      2017|\n",
      "|ur.01000000322.68|      2018|\n",
      "|ur.01000000322.68|      2019|\n",
      "|ur.01000000322.68|      2020|\n",
      "+-----------------+----------+\n",
      "\n"
     ]
    }
   ],
   "source": [
    "researcher_annual_df[researcher_annual_df['researcher_id'] == 'ur.01000000322.68'].show()"
   ]
  },
  {
   "cell_type": "code",
   "execution_count": 115,
   "metadata": {
    "collapsed": true
   },
   "outputs": [
    {
     "name": "stdout",
     "output_type": "stream",
     "text": [
      "+-----------------+----------+\n",
      "|    researcher_id|YearBefore|\n",
      "+-----------------+----------+\n",
      "|ur.01000000322.68|      2014|\n",
      "|ur.01000000322.68|      2015|\n",
      "|ur.01000000322.68|      2016|\n",
      "|ur.01000000322.68|      2017|\n",
      "|ur.01000000322.68|      2018|\n",
      "|ur.01000000322.68|      2019|\n",
      "|ur.01000000322.68|      2020|\n",
      "|ur.01000000322.68|      2021|\n",
      "+-----------------+----------+\n",
      "\n"
     ]
    }
   ],
   "source": [
    "researcher_annual_df[researcher_annual_df['researcher_id'] == 'ur.01000000322.68'].show()"
   ]
  },
  {
   "cell_type": "code",
   "execution_count": null,
   "metadata": {},
   "outputs": [],
   "source": []
  },
  {
   "cell_type": "code",
   "execution_count": 136,
   "metadata": {},
   "outputs": [],
   "source": [
    "publication_count_annual = authorship.\\\n",
    "    join(researcher_annual_df.select('researcher_id', 'YearBefore'), on = 'researcher_id', how = 'inner').\\\n",
    "    join(pub_idx_nopp, how = 'inner', on = 'publication_id').\\\n",
    "    where(fn.col('year') <= fn.col('YearBefore')).\\\n",
    "    groupby('researcher_id', 'YearBefore').count().withColumnRenamed('count', 'publication_count')"
   ]
  },
  {
   "cell_type": "code",
   "execution_count": 139,
   "metadata": {},
   "outputs": [],
   "source": [
    "publication_count_1Y_annual = authorship.\\\n",
    "    join(researcher_annual_df.select('researcher_id', 'YearBefore'), on = 'researcher_id', how = 'inner').\\\n",
    "    join(pub_idx_nopp, how = 'inner', on = 'publication_id').\\\n",
    "    where((fn.col('year') <= fn.col('YearBefore')) & (fn.col('year') > (fn.col('YearBefore') - fn.lit(1)))).\\\n",
    "    groupby('researcher_id', 'YearBefore').count().withColumnRenamed('count', 'publication_count_1Y')"
   ]
  },
  {
   "cell_type": "code",
   "execution_count": 117,
   "metadata": {},
   "outputs": [],
   "source": [
    "publication_count_3Y_annual = authorship.\\\n",
    "    join(researcher_annual_df.select('researcher_id', 'YearBefore'), on = 'researcher_id', how = 'inner').\\\n",
    "    join(pub_idx_nopp, how = 'inner', on = 'publication_id').\\\n",
    "    where((fn.col('year') <= fn.col('YearBefore')) & (fn.col('year') > (fn.col('YearBefore') - fn.lit(3)))).\\\n",
    "    groupby('researcher_id', 'YearBefore').count().withColumnRenamed('count', 'publication_count_3Y')"
   ]
  },
  {
   "cell_type": "code",
   "execution_count": 118,
   "metadata": {},
   "outputs": [],
   "source": [
    "publication_count_5Y_annual = authorship.\\\n",
    "    join(researcher_annual_df.select('researcher_id', 'YearBefore'), on = 'researcher_id', how = 'inner').\\\n",
    "    join(pub_idx_nopp, how = 'inner', on = 'publication_id').\\\n",
    "    where((fn.col('year') <= fn.col('YearBefore')) & (fn.col('year') > (fn.col('YearBefore') - fn.lit(5)))).\\\n",
    "    groupby('researcher_id', 'YearBefore').count().withColumnRenamed('count', 'publication_count_5Y')"
   ]
  },
  {
   "cell_type": "code",
   "execution_count": 119,
   "metadata": {},
   "outputs": [],
   "source": [
    "publication_count_10Y_annual = authorship.\\\n",
    "    join(researcher_annual_df.select('researcher_id', 'YearBefore'), on = 'researcher_id', how = 'inner').\\\n",
    "    join(pub_idx_nopp, how = 'inner', on = 'publication_id').\\\n",
    "    where((fn.col('year') <= fn.col('YearBefore')) & (fn.col('year') > (fn.col('YearBefore') - fn.lit(10)))).\\\n",
    "    groupby('researcher_id', 'YearBefore').count().withColumnRenamed('count', 'publication_count_10Y')"
   ]
  },
  {
   "cell_type": "code",
   "execution_count": null,
   "metadata": {},
   "outputs": [],
   "source": []
  },
  {
   "cell_type": "code",
   "execution_count": null,
   "metadata": {},
   "outputs": [],
   "source": []
  },
  {
   "cell_type": "markdown",
   "metadata": {},
   "source": [
    "### Citation Received Count by Citing Paper Publication Year"
   ]
  },
  {
   "cell_type": "code",
   "execution_count": 120,
   "metadata": {},
   "outputs": [],
   "source": [
    "citation_count_annual = authorship.\\\n",
    "    join(researcher_annual_df.select('researcher_id', 'YearBefore'), on = 'researcher_id', how = 'inner').\\\n",
    "    join(pub_idx_nopp, how = 'inner', on = 'publication_id').\\\n",
    "    join(citations, 'publication_id', 'inner').\\\n",
    "    join(pub_idx_nopp.select(fn.col('publication_id').alias('citing_publication_id')), 'citing_publication_id', 'inner').\\\n",
    "    where(fn.col('citation_year') <= fn.col('YearBefore')).\\\n",
    "    groupby('researcher_id', 'YearBefore').count().withColumnRenamed('count', 'citation_count')"
   ]
  },
  {
   "cell_type": "code",
   "execution_count": 121,
   "metadata": {},
   "outputs": [],
   "source": [
    "citation_count_3Y_annual = authorship.\\\n",
    "    join(researcher_annual_df.select('researcher_id', 'YearBefore'), on = 'researcher_id', how = 'inner').\\\n",
    "    join(pub_idx_nopp, how = 'inner', on = 'publication_id').\\\n",
    "    join(citations, 'publication_id', 'inner').\\\n",
    "    join(pub_idx_nopp.select(fn.col('publication_id').alias('citing_publication_id')), 'citing_publication_id', 'inner').\\\n",
    "    where((fn.col('citation_year') <= fn.col('YearBefore')) & (fn.col('citation_year') > (fn.col('YearBefore') - fn.lit(3)))).\\\n",
    "    groupby('researcher_id', 'YearBefore').count().withColumnRenamed('count', 'citation_count_3Y')"
   ]
  },
  {
   "cell_type": "code",
   "execution_count": 122,
   "metadata": {},
   "outputs": [],
   "source": [
    "citation_count_5Y_annual = authorship.\\\n",
    "    join(researcher_annual_df.select('researcher_id', 'YearBefore'), on = 'researcher_id', how = 'inner').\\\n",
    "    join(pub_idx_nopp, how = 'inner', on = 'publication_id').\\\n",
    "    join(citations, 'publication_id', 'inner').\\\n",
    "    join(pub_idx_nopp.select(fn.col('publication_id').alias('citing_publication_id')), 'citing_publication_id', 'inner').\\\n",
    "    where((fn.col('citation_year') <= fn.col('YearBefore')) & (fn.col('citation_year') > (fn.col('YearBefore') - fn.lit(5)))).\\\n",
    "    groupby('researcher_id', 'YearBefore').count().withColumnRenamed('count', 'citation_count_5Y')"
   ]
  },
  {
   "cell_type": "code",
   "execution_count": 123,
   "metadata": {},
   "outputs": [],
   "source": [
    "citation_count_10Y_annual = authorship.\\\n",
    "    join(researcher_annual_df.select('researcher_id', 'YearBefore'), on = 'researcher_id', how = 'inner').\\\n",
    "    join(pub_idx_nopp, how = 'inner', on = 'publication_id').\\\n",
    "    join(citations, 'publication_id', 'inner').\\\n",
    "    join(pub_idx_nopp.select(fn.col('publication_id').alias('citing_publication_id')), 'citing_publication_id', 'inner').\\\n",
    "    where((fn.col('citation_year') <= fn.col('YearBefore')) & (fn.col('citation_year') > (fn.col('YearBefore') - fn.lit(10)))).\\\n",
    "    groupby('researcher_id', 'YearBefore').count().withColumnRenamed('count', 'citation_count_10Y')"
   ]
  },
  {
   "cell_type": "code",
   "execution_count": null,
   "metadata": {},
   "outputs": [],
   "source": []
  },
  {
   "cell_type": "markdown",
   "metadata": {},
   "source": [
    "### Citation Received Count by Cited Paper Publication Year"
   ]
  },
  {
   "cell_type": "code",
   "execution_count": 124,
   "metadata": {},
   "outputs": [],
   "source": [
    "citation_count_3YPub_annual = authorship.\\\n",
    "    join(researcher_annual_df.select('researcher_id', 'YearBefore'), on = 'researcher_id', how = 'inner').\\\n",
    "    join(pub_idx_nopp, how = 'inner', on = 'publication_id').\\\n",
    "    join(citations, 'publication_id', 'inner').\\\n",
    "    join(pub_idx_nopp.select(fn.col('publication_id').alias('citing_publication_id')), 'citing_publication_id', 'inner').\\\n",
    "    where((fn.col('year') <= fn.col('YearBefore')) & (fn.col('year') > (fn.col('YearBefore') - fn.lit(3)))).\\\n",
    "    groupby('researcher_id', 'YearBefore').count().withColumnRenamed('count', 'citation_count_3YPub')"
   ]
  },
  {
   "cell_type": "code",
   "execution_count": 125,
   "metadata": {},
   "outputs": [],
   "source": [
    "citation_count_5YPub_annual = authorship.\\\n",
    "    join(researcher_annual_df.select('researcher_id', 'YearBefore'), on = 'researcher_id', how = 'inner').\\\n",
    "    join(pub_idx_nopp, how = 'inner', on = 'publication_id').\\\n",
    "    join(citations, 'publication_id', 'inner').\\\n",
    "    join(pub_idx_nopp.select(fn.col('publication_id').alias('citing_publication_id')), 'citing_publication_id', 'inner').\\\n",
    "    where((fn.col('year') <= fn.col('YearBefore')) & (fn.col('year') > (fn.col('YearBefore') - fn.lit(5)))).\\\n",
    "    groupby('researcher_id', 'YearBefore').count().withColumnRenamed('count', 'citation_count_5YPub')"
   ]
  },
  {
   "cell_type": "code",
   "execution_count": 126,
   "metadata": {},
   "outputs": [],
   "source": [
    "citation_count_10YPub_annual = authorship.\\\n",
    "    join(researcher_annual_df.select('researcher_id', 'YearBefore'), on = 'researcher_id', how = 'inner').\\\n",
    "    join(pub_idx_nopp, how = 'inner', on = 'publication_id').\\\n",
    "    join(citations, 'publication_id', 'inner').\\\n",
    "    join(pub_idx_nopp.select(fn.col('publication_id').alias('citing_publication_id')), 'citing_publication_id', 'inner').\\\n",
    "    where((fn.col('year') <= fn.col('YearBefore')) & (fn.col('year') > (fn.col('YearBefore') - fn.lit(10)))).\\\n",
    "    groupby('researcher_id', 'YearBefore').count().withColumnRenamed('count', 'citation_count_10YPub')"
   ]
  },
  {
   "cell_type": "code",
   "execution_count": null,
   "metadata": {},
   "outputs": [],
   "source": []
  },
  {
   "cell_type": "markdown",
   "metadata": {},
   "source": [
    "### Citation Received Count by Cited Paper Publication Year and by Citing Paper Citing Year"
   ]
  },
  {
   "cell_type": "code",
   "execution_count": 127,
   "metadata": {},
   "outputs": [],
   "source": [
    "citation_count_3YPubCite_annual = authorship.\\\n",
    "    join(researcher_annual_df.select('researcher_id', 'YearBefore'), on = 'researcher_id', how = 'inner').\\\n",
    "    join(pub_idx_nopp, how = 'inner', on = 'publication_id').\\\n",
    "    join(citations, 'publication_id', 'inner').\\\n",
    "    join(pub_idx_nopp.select(fn.col('publication_id').alias('citing_publication_id'), fn.col('year').alias('citing_year')), 'citing_publication_id', 'inner').\\\n",
    "    where((fn.col('year') <= fn.col('YearBefore')) & (fn.col('year') > (fn.col('YearBefore') - fn.lit(3)))).\\\n",
    "    where((fn.col('citing_year') <= fn.col('YearBefore')) & (fn.col('citing_year') > (fn.col('YearBefore') - fn.lit(3)))).\\\n",
    "    groupby('researcher_id', 'YearBefore').count().withColumnRenamed('count', 'citation_count_3YPubCite')"
   ]
  },
  {
   "cell_type": "code",
   "execution_count": 128,
   "metadata": {},
   "outputs": [],
   "source": [
    "citation_count_5YPubCite_annual = authorship.\\\n",
    "    join(researcher_annual_df.select('researcher_id', 'YearBefore'), on = 'researcher_id', how = 'inner').\\\n",
    "    join(pub_idx_nopp, how = 'inner', on = 'publication_id').\\\n",
    "    join(citations, 'publication_id', 'inner').\\\n",
    "    join(pub_idx_nopp.select(fn.col('publication_id').alias('citing_publication_id'), fn.col('year').alias('citing_year')), 'citing_publication_id', 'inner').\\\n",
    "    where((fn.col('year') <= fn.col('YearBefore')) & (fn.col('year') > (fn.col('YearBefore') - fn.lit(5)))).\\\n",
    "    where((fn.col('citing_year') <= fn.col('YearBefore')) & (fn.col('citing_year') > (fn.col('YearBefore') - fn.lit(5)))).\\\n",
    "    groupby('researcher_id', 'YearBefore').count().withColumnRenamed('count', 'citation_count_5YPubCite')"
   ]
  },
  {
   "cell_type": "code",
   "execution_count": 129,
   "metadata": {},
   "outputs": [],
   "source": [
    "citation_count_10YPubCite_annual = authorship.\\\n",
    "    join(researcher_annual_df.select('researcher_id', 'YearBefore'), on = 'researcher_id', how = 'inner').\\\n",
    "    join(pub_idx_nopp, how = 'inner', on = 'publication_id').\\\n",
    "    join(citations, 'publication_id', 'inner').\\\n",
    "    join(pub_idx_nopp.select(fn.col('publication_id').alias('citing_publication_id'), fn.col('year').alias('citing_year')), 'citing_publication_id', 'inner').\\\n",
    "    where((fn.col('year') <= fn.col('YearBefore')) & (fn.col('year') > (fn.col('YearBefore') - fn.lit(10)))).\\\n",
    "    where((fn.col('citing_year') <= fn.col('YearBefore')) & (fn.col('citing_year') > (fn.col('YearBefore') - fn.lit(10)))).\\\n",
    "    groupby('researcher_id', 'YearBefore').count().withColumnRenamed('count', 'citation_count_10YPubCite')"
   ]
  },
  {
   "cell_type": "code",
   "execution_count": null,
   "metadata": {},
   "outputs": [],
   "source": []
  },
  {
   "cell_type": "markdown",
   "metadata": {},
   "source": [
    "### The Number of Unique Co-Authors"
   ]
  },
  {
   "cell_type": "code",
   "execution_count": 130,
   "metadata": {},
   "outputs": [],
   "source": [
    "coauthor_count_annual = researcher_annual_df.\\\n",
    "    select('researcher_id', 'YearBefore').\\\n",
    "    join(authorship, 'researcher_id', 'inner').\\\n",
    "    join(publications.select(fn.col('id').alias('publication_id'), 'year'), 'publication_id', 'inner').\\\n",
    "    where(fn.col('year') <= fn.col('YearBefore')).\\\n",
    "    join(authorship.withColumnRenamed('researcher_id', 'coauthor_id'), 'publication_id', 'inner').\\\n",
    "    where(fn.col('researcher_id') != fn.col('coauthor_id')).\\\n",
    "    select('researcher_id', 'coauthor_id', 'YearBefore').drop_duplicates().\\\n",
    "    groupby('researcher_id', 'YearBefore').count().withColumnRenamed('count', 'coauthor_count')"
   ]
  },
  {
   "cell_type": "code",
   "execution_count": 131,
   "metadata": {},
   "outputs": [],
   "source": [
    "coauthor_count3Y_annual = researcher_annual_df.\\\n",
    "    select('researcher_id', 'YearBefore').\\\n",
    "    join(authorship, 'researcher_id', 'inner').\\\n",
    "    join(publications.select(fn.col('id').alias('publication_id'), 'year'), 'publication_id', 'inner').\\\n",
    "    where((fn.col('year') <= fn.col('YearBefore')) & (fn.col('year') > (fn.col('YearBefore') - fn.lit(3)))).\\\n",
    "    join(authorship.withColumnRenamed('researcher_id', 'coauthor_id'), 'publication_id', 'inner').\\\n",
    "    where(fn.col('researcher_id') != fn.col('coauthor_id')).\\\n",
    "    select('researcher_id', 'coauthor_id', 'YearBefore').drop_duplicates().\\\n",
    "    groupby('researcher_id', 'YearBefore').count().withColumnRenamed('count', 'coauthor_count3Y')"
   ]
  },
  {
   "cell_type": "code",
   "execution_count": 132,
   "metadata": {},
   "outputs": [],
   "source": [
    "coauthor_count5Y_annual = researcher_annual_df.\\\n",
    "    select('researcher_id', 'YearBefore').\\\n",
    "    join(authorship, 'researcher_id', 'inner').\\\n",
    "    join(publications.select(fn.col('id').alias('publication_id'), 'year'), 'publication_id', 'inner').\\\n",
    "    where((fn.col('year') <= fn.col('YearBefore')) & (fn.col('year') > (fn.col('YearBefore') - fn.lit(5)))).\\\n",
    "    join(authorship.withColumnRenamed('researcher_id', 'coauthor_id'), 'publication_id', 'inner').\\\n",
    "    where(fn.col('researcher_id') != fn.col('coauthor_id')).\\\n",
    "    select('researcher_id', 'coauthor_id', 'YearBefore').drop_duplicates().\\\n",
    "    groupby('researcher_id', 'YearBefore').count().withColumnRenamed('count', 'coauthor_count5Y')"
   ]
  },
  {
   "cell_type": "code",
   "execution_count": 133,
   "metadata": {},
   "outputs": [],
   "source": [
    "coauthor_count10Y_annual = researcher_annual_df.\\\n",
    "    select('researcher_id', 'YearBefore').\\\n",
    "    join(authorship, 'researcher_id', 'inner').\\\n",
    "    join(publications.select(fn.col('id').alias('publication_id'), 'year'), 'publication_id', 'inner').\\\n",
    "    where((fn.col('year') <= fn.col('YearBefore')) & (fn.col('year') > (fn.col('YearBefore') - fn.lit(10)))).\\\n",
    "    join(authorship.withColumnRenamed('researcher_id', 'coauthor_id'), 'publication_id', 'inner').\\\n",
    "    where(fn.col('researcher_id') != fn.col('coauthor_id')).\\\n",
    "    select('researcher_id', 'coauthor_id', 'YearBefore').drop_duplicates().\\\n",
    "    groupby('researcher_id', 'YearBefore').count().withColumnRenamed('count', 'coauthor_count10Y')"
   ]
  },
  {
   "cell_type": "code",
   "execution_count": null,
   "metadata": {},
   "outputs": [],
   "source": []
  },
  {
   "cell_type": "code",
   "execution_count": 140,
   "metadata": {
    "scrolled": true
   },
   "outputs": [],
   "source": [
    "researcher_bibliometrics_annual = researcher_annual_df.\\\n",
    "    join(publication_count_annual, ['researcher_id', 'YearBefore'], 'left').\\\n",
    "    join(publication_count_1Y_annual, ['researcher_id', 'YearBefore'], 'left').\\\n",
    "    join(publication_count_3Y_annual, ['researcher_id', 'YearBefore'], 'left').\\\n",
    "    join(publication_count_5Y_annual, ['researcher_id', 'YearBefore'], 'left').\\\n",
    "    join(publication_count_10Y_annual, ['researcher_id', 'YearBefore'], 'left').\\\n",
    "    join(citation_count_annual, ['researcher_id', 'YearBefore'], 'left').\\\n",
    "    join(citation_count_3Y_annual, ['researcher_id', 'YearBefore'], 'left').\\\n",
    "    join(citation_count_5Y_annual, ['researcher_id', 'YearBefore'], 'left').\\\n",
    "    join(citation_count_10Y_annual, ['researcher_id', 'YearBefore'], 'left').\\\n",
    "    join(citation_count_3YPub_annual, ['researcher_id', 'YearBefore'], 'left').\\\n",
    "    join(citation_count_5YPub_annual, ['researcher_id', 'YearBefore'], 'left').\\\n",
    "    join(citation_count_10YPub_annual, ['researcher_id', 'YearBefore'], 'left').\\\n",
    "    join(citation_count_3YPubCite_annual, ['researcher_id', 'YearBefore'], 'left').\\\n",
    "    join(citation_count_5YPubCite_annual, ['researcher_id', 'YearBefore'], 'left').\\\n",
    "    join(citation_count_10YPubCite_annual, ['researcher_id', 'YearBefore'], 'left').\\\n",
    "    join(coauthor_count_annual, ['researcher_id', 'YearBefore'], 'left').\\\n",
    "    join(coauthor_count3Y_annual, ['researcher_id', 'YearBefore'], 'left').\\\n",
    "    join(coauthor_count5Y_annual, ['researcher_id', 'YearBefore'], 'left').\\\n",
    "    join(coauthor_count10Y_annual, ['researcher_id', 'YearBefore'], 'left').\\\n",
    "    withColumnRenamed('YearBefore', 'year').\\\n",
    "    fillna(0)"
   ]
  },
  {
   "cell_type": "code",
   "execution_count": 141,
   "metadata": {},
   "outputs": [],
   "source": [
    "researcher_bibliometrics_annual.write.parquet('./sloan/potential_researcher_bibliometrics_annual.parquet', mode = 'overwrite')"
   ]
  },
  {
   "cell_type": "code",
   "execution_count": 142,
   "metadata": {},
   "outputs": [],
   "source": [
    "researcher_bibliometrics_annual = spark.read.parquet('./sloan/potential_researcher_bibliometrics_annual.parquet')"
   ]
  },
  {
   "cell_type": "code",
   "execution_count": 144,
   "metadata": {},
   "outputs": [],
   "source": [
    "researcher_bibliometrics_annual_df = researcher_bibliometrics_annual.\\\n",
    "    orderBy(['researcher_id', 'year']).\\\n",
    "    toPandas()"
   ]
  },
  {
   "cell_type": "code",
   "execution_count": 145,
   "metadata": {},
   "outputs": [],
   "source": [
    "researcher_bibliometrics_annual_df.to_csv('./data/potential_researcher_annual_bibliometrics.csv', index = False)"
   ]
  },
  {
   "cell_type": "code",
   "execution_count": 146,
   "metadata": {},
   "outputs": [],
   "source": [
    "researcher_bibliometrics_annual_df = pd.read_csv('./data/potential_researcher_annual_bibliometrics.csv')"
   ]
  },
  {
   "cell_type": "code",
   "execution_count": 147,
   "metadata": {},
   "outputs": [
    {
     "data": {
      "text/html": [
       "<div>\n",
       "<style scoped>\n",
       "    .dataframe tbody tr th:only-of-type {\n",
       "        vertical-align: middle;\n",
       "    }\n",
       "\n",
       "    .dataframe tbody tr th {\n",
       "        vertical-align: top;\n",
       "    }\n",
       "\n",
       "    .dataframe thead th {\n",
       "        text-align: right;\n",
       "    }\n",
       "</style>\n",
       "<table border=\"1\" class=\"dataframe\">\n",
       "  <thead>\n",
       "    <tr style=\"text-align: right;\">\n",
       "      <th></th>\n",
       "      <th>researcher_id</th>\n",
       "      <th>year</th>\n",
       "      <th>publication_count</th>\n",
       "      <th>publication_count_1Y</th>\n",
       "      <th>publication_count_3Y</th>\n",
       "      <th>publication_count_5Y</th>\n",
       "      <th>publication_count_10Y</th>\n",
       "      <th>citation_count</th>\n",
       "      <th>citation_count_3Y</th>\n",
       "      <th>citation_count_5Y</th>\n",
       "      <th>...</th>\n",
       "      <th>citation_count_3YPub</th>\n",
       "      <th>citation_count_5YPub</th>\n",
       "      <th>citation_count_10YPub</th>\n",
       "      <th>citation_count_3YPubCite</th>\n",
       "      <th>citation_count_5YPubCite</th>\n",
       "      <th>citation_count_10YPubCite</th>\n",
       "      <th>coauthor_count</th>\n",
       "      <th>coauthor_count3Y</th>\n",
       "      <th>coauthor_count5Y</th>\n",
       "      <th>coauthor_count10Y</th>\n",
       "    </tr>\n",
       "  </thead>\n",
       "  <tbody>\n",
       "    <tr>\n",
       "      <th>0</th>\n",
       "      <td>ur.01000000322.68</td>\n",
       "      <td>2014</td>\n",
       "      <td>1</td>\n",
       "      <td>1</td>\n",
       "      <td>1</td>\n",
       "      <td>1</td>\n",
       "      <td>1</td>\n",
       "      <td>5</td>\n",
       "      <td>5</td>\n",
       "      <td>5</td>\n",
       "      <td>...</td>\n",
       "      <td>55</td>\n",
       "      <td>55</td>\n",
       "      <td>55</td>\n",
       "      <td>5</td>\n",
       "      <td>5</td>\n",
       "      <td>5</td>\n",
       "      <td>16</td>\n",
       "      <td>16</td>\n",
       "      <td>16</td>\n",
       "      <td>16</td>\n",
       "    </tr>\n",
       "    <tr>\n",
       "      <th>1</th>\n",
       "      <td>ur.01000000322.68</td>\n",
       "      <td>2015</td>\n",
       "      <td>1</td>\n",
       "      <td>0</td>\n",
       "      <td>1</td>\n",
       "      <td>1</td>\n",
       "      <td>1</td>\n",
       "      <td>10</td>\n",
       "      <td>10</td>\n",
       "      <td>10</td>\n",
       "      <td>...</td>\n",
       "      <td>55</td>\n",
       "      <td>55</td>\n",
       "      <td>55</td>\n",
       "      <td>10</td>\n",
       "      <td>10</td>\n",
       "      <td>10</td>\n",
       "      <td>16</td>\n",
       "      <td>16</td>\n",
       "      <td>16</td>\n",
       "      <td>16</td>\n",
       "    </tr>\n",
       "    <tr>\n",
       "      <th>2</th>\n",
       "      <td>ur.01000000322.68</td>\n",
       "      <td>2016</td>\n",
       "      <td>3</td>\n",
       "      <td>2</td>\n",
       "      <td>3</td>\n",
       "      <td>3</td>\n",
       "      <td>3</td>\n",
       "      <td>20</td>\n",
       "      <td>20</td>\n",
       "      <td>20</td>\n",
       "      <td>...</td>\n",
       "      <td>70</td>\n",
       "      <td>70</td>\n",
       "      <td>70</td>\n",
       "      <td>20</td>\n",
       "      <td>20</td>\n",
       "      <td>20</td>\n",
       "      <td>28</td>\n",
       "      <td>28</td>\n",
       "      <td>28</td>\n",
       "      <td>28</td>\n",
       "    </tr>\n",
       "    <tr>\n",
       "      <th>3</th>\n",
       "      <td>ur.01000000322.68</td>\n",
       "      <td>2017</td>\n",
       "      <td>4</td>\n",
       "      <td>1</td>\n",
       "      <td>3</td>\n",
       "      <td>4</td>\n",
       "      <td>4</td>\n",
       "      <td>32</td>\n",
       "      <td>27</td>\n",
       "      <td>32</td>\n",
       "      <td>...</td>\n",
       "      <td>378</td>\n",
       "      <td>433</td>\n",
       "      <td>433</td>\n",
       "      <td>4</td>\n",
       "      <td>32</td>\n",
       "      <td>32</td>\n",
       "      <td>36</td>\n",
       "      <td>20</td>\n",
       "      <td>36</td>\n",
       "      <td>36</td>\n",
       "    </tr>\n",
       "    <tr>\n",
       "      <th>4</th>\n",
       "      <td>ur.01000000322.68</td>\n",
       "      <td>2018</td>\n",
       "      <td>5</td>\n",
       "      <td>1</td>\n",
       "      <td>4</td>\n",
       "      <td>5</td>\n",
       "      <td>5</td>\n",
       "      <td>102</td>\n",
       "      <td>92</td>\n",
       "      <td>102</td>\n",
       "      <td>...</td>\n",
       "      <td>705</td>\n",
       "      <td>760</td>\n",
       "      <td>760</td>\n",
       "      <td>68</td>\n",
       "      <td>102</td>\n",
       "      <td>102</td>\n",
       "      <td>43</td>\n",
       "      <td>27</td>\n",
       "      <td>43</td>\n",
       "      <td>43</td>\n",
       "    </tr>\n",
       "    <tr>\n",
       "      <th>...</th>\n",
       "      <td>...</td>\n",
       "      <td>...</td>\n",
       "      <td>...</td>\n",
       "      <td>...</td>\n",
       "      <td>...</td>\n",
       "      <td>...</td>\n",
       "      <td>...</td>\n",
       "      <td>...</td>\n",
       "      <td>...</td>\n",
       "      <td>...</td>\n",
       "      <td>...</td>\n",
       "      <td>...</td>\n",
       "      <td>...</td>\n",
       "      <td>...</td>\n",
       "      <td>...</td>\n",
       "      <td>...</td>\n",
       "      <td>...</td>\n",
       "      <td>...</td>\n",
       "      <td>...</td>\n",
       "      <td>...</td>\n",
       "      <td>...</td>\n",
       "    </tr>\n",
       "    <tr>\n",
       "      <th>5147230</th>\n",
       "      <td>ur.0777777774.33</td>\n",
       "      <td>2015</td>\n",
       "      <td>15</td>\n",
       "      <td>4</td>\n",
       "      <td>6</td>\n",
       "      <td>8</td>\n",
       "      <td>15</td>\n",
       "      <td>202</td>\n",
       "      <td>134</td>\n",
       "      <td>178</td>\n",
       "      <td>...</td>\n",
       "      <td>995</td>\n",
       "      <td>1048</td>\n",
       "      <td>1202</td>\n",
       "      <td>63</td>\n",
       "      <td>89</td>\n",
       "      <td>201</td>\n",
       "      <td>48</td>\n",
       "      <td>33</td>\n",
       "      <td>37</td>\n",
       "      <td>48</td>\n",
       "    </tr>\n",
       "    <tr>\n",
       "      <th>5147231</th>\n",
       "      <td>ur.0777777774.33</td>\n",
       "      <td>2016</td>\n",
       "      <td>21</td>\n",
       "      <td>6</td>\n",
       "      <td>12</td>\n",
       "      <td>14</td>\n",
       "      <td>21</td>\n",
       "      <td>319</td>\n",
       "      <td>219</td>\n",
       "      <td>270</td>\n",
       "      <td>...</td>\n",
       "      <td>1186</td>\n",
       "      <td>1239</td>\n",
       "      <td>1393</td>\n",
       "      <td>166</td>\n",
       "      <td>198</td>\n",
       "      <td>318</td>\n",
       "      <td>64</td>\n",
       "      <td>50</td>\n",
       "      <td>54</td>\n",
       "      <td>64</td>\n",
       "    </tr>\n",
       "    <tr>\n",
       "      <th>5147232</th>\n",
       "      <td>ur.0777777774.33</td>\n",
       "      <td>2017</td>\n",
       "      <td>21</td>\n",
       "      <td>0</td>\n",
       "      <td>10</td>\n",
       "      <td>12</td>\n",
       "      <td>18</td>\n",
       "      <td>488</td>\n",
       "      <td>359</td>\n",
       "      <td>420</td>\n",
       "      <td>...</td>\n",
       "      <td>283</td>\n",
       "      <td>1186</td>\n",
       "      <td>1370</td>\n",
       "      <td>83</td>\n",
       "      <td>321</td>\n",
       "      <td>468</td>\n",
       "      <td>64</td>\n",
       "      <td>41</td>\n",
       "      <td>50</td>\n",
       "      <td>59</td>\n",
       "    </tr>\n",
       "    <tr>\n",
       "      <th>5147233</th>\n",
       "      <td>ur.0777777774.33</td>\n",
       "      <td>2018</td>\n",
       "      <td>22</td>\n",
       "      <td>1</td>\n",
       "      <td>7</td>\n",
       "      <td>13</td>\n",
       "      <td>19</td>\n",
       "      <td>645</td>\n",
       "      <td>443</td>\n",
       "      <td>545</td>\n",
       "      <td>...</td>\n",
       "      <td>202</td>\n",
       "      <td>1197</td>\n",
       "      <td>1381</td>\n",
       "      <td>72</td>\n",
       "      <td>466</td>\n",
       "      <td>624</td>\n",
       "      <td>68</td>\n",
       "      <td>38</td>\n",
       "      <td>54</td>\n",
       "      <td>63</td>\n",
       "    </tr>\n",
       "    <tr>\n",
       "      <th>5147234</th>\n",
       "      <td>ur.0777777774.33</td>\n",
       "      <td>2019</td>\n",
       "      <td>23</td>\n",
       "      <td>1</td>\n",
       "      <td>2</td>\n",
       "      <td>12</td>\n",
       "      <td>17</td>\n",
       "      <td>825</td>\n",
       "      <td>506</td>\n",
       "      <td>696</td>\n",
       "      <td>...</td>\n",
       "      <td>21</td>\n",
       "      <td>304</td>\n",
       "      <td>1281</td>\n",
       "      <td>7</td>\n",
       "      <td>178</td>\n",
       "      <td>702</td>\n",
       "      <td>71</td>\n",
       "      <td>14</td>\n",
       "      <td>48</td>\n",
       "      <td>61</td>\n",
       "    </tr>\n",
       "  </tbody>\n",
       "</table>\n",
       "<p>5147235 rows × 21 columns</p>\n",
       "</div>"
      ],
      "text/plain": [
       "             researcher_id  year  publication_count  publication_count_1Y  \\\n",
       "0        ur.01000000322.68  2014                  1                     1   \n",
       "1        ur.01000000322.68  2015                  1                     0   \n",
       "2        ur.01000000322.68  2016                  3                     2   \n",
       "3        ur.01000000322.68  2017                  4                     1   \n",
       "4        ur.01000000322.68  2018                  5                     1   \n",
       "...                    ...   ...                ...                   ...   \n",
       "5147230   ur.0777777774.33  2015                 15                     4   \n",
       "5147231   ur.0777777774.33  2016                 21                     6   \n",
       "5147232   ur.0777777774.33  2017                 21                     0   \n",
       "5147233   ur.0777777774.33  2018                 22                     1   \n",
       "5147234   ur.0777777774.33  2019                 23                     1   \n",
       "\n",
       "         publication_count_3Y  publication_count_5Y  publication_count_10Y  \\\n",
       "0                           1                     1                      1   \n",
       "1                           1                     1                      1   \n",
       "2                           3                     3                      3   \n",
       "3                           3                     4                      4   \n",
       "4                           4                     5                      5   \n",
       "...                       ...                   ...                    ...   \n",
       "5147230                     6                     8                     15   \n",
       "5147231                    12                    14                     21   \n",
       "5147232                    10                    12                     18   \n",
       "5147233                     7                    13                     19   \n",
       "5147234                     2                    12                     17   \n",
       "\n",
       "         citation_count  citation_count_3Y  citation_count_5Y  ...  \\\n",
       "0                     5                  5                  5  ...   \n",
       "1                    10                 10                 10  ...   \n",
       "2                    20                 20                 20  ...   \n",
       "3                    32                 27                 32  ...   \n",
       "4                   102                 92                102  ...   \n",
       "...                 ...                ...                ...  ...   \n",
       "5147230             202                134                178  ...   \n",
       "5147231             319                219                270  ...   \n",
       "5147232             488                359                420  ...   \n",
       "5147233             645                443                545  ...   \n",
       "5147234             825                506                696  ...   \n",
       "\n",
       "         citation_count_3YPub  citation_count_5YPub  citation_count_10YPub  \\\n",
       "0                          55                    55                     55   \n",
       "1                          55                    55                     55   \n",
       "2                          70                    70                     70   \n",
       "3                         378                   433                    433   \n",
       "4                         705                   760                    760   \n",
       "...                       ...                   ...                    ...   \n",
       "5147230                   995                  1048                   1202   \n",
       "5147231                  1186                  1239                   1393   \n",
       "5147232                   283                  1186                   1370   \n",
       "5147233                   202                  1197                   1381   \n",
       "5147234                    21                   304                   1281   \n",
       "\n",
       "         citation_count_3YPubCite  citation_count_5YPubCite  \\\n",
       "0                               5                         5   \n",
       "1                              10                        10   \n",
       "2                              20                        20   \n",
       "3                               4                        32   \n",
       "4                              68                       102   \n",
       "...                           ...                       ...   \n",
       "5147230                        63                        89   \n",
       "5147231                       166                       198   \n",
       "5147232                        83                       321   \n",
       "5147233                        72                       466   \n",
       "5147234                         7                       178   \n",
       "\n",
       "         citation_count_10YPubCite  coauthor_count  coauthor_count3Y  \\\n",
       "0                                5              16                16   \n",
       "1                               10              16                16   \n",
       "2                               20              28                28   \n",
       "3                               32              36                20   \n",
       "4                              102              43                27   \n",
       "...                            ...             ...               ...   \n",
       "5147230                        201              48                33   \n",
       "5147231                        318              64                50   \n",
       "5147232                        468              64                41   \n",
       "5147233                        624              68                38   \n",
       "5147234                        702              71                14   \n",
       "\n",
       "         coauthor_count5Y  coauthor_count10Y  \n",
       "0                      16                 16  \n",
       "1                      16                 16  \n",
       "2                      28                 28  \n",
       "3                      36                 36  \n",
       "4                      43                 43  \n",
       "...                   ...                ...  \n",
       "5147230                37                 48  \n",
       "5147231                54                 64  \n",
       "5147232                50                 59  \n",
       "5147233                54                 63  \n",
       "5147234                48                 61  \n",
       "\n",
       "[5147235 rows x 21 columns]"
      ]
     },
     "execution_count": 147,
     "metadata": {},
     "output_type": "execute_result"
    }
   ],
   "source": [
    "researcher_bibliometrics_annual_df"
   ]
  },
  {
   "cell_type": "code",
   "execution_count": null,
   "metadata": {},
   "outputs": [],
   "source": []
  },
  {
   "cell_type": "code",
   "execution_count": 57,
   "metadata": {},
   "outputs": [],
   "source": [
    "potential_author_bib = pd.read_csv('./data/potential_author_bib.csv')"
   ]
  },
  {
   "cell_type": "code",
   "execution_count": 96,
   "metadata": {},
   "outputs": [
    {
     "data": {
      "text/plain": [
       "5155861"
      ]
     },
     "execution_count": 96,
     "metadata": {},
     "output_type": "execute_result"
    }
   ],
   "source": [
    "len(potential_author_bib['related_researcher_id'].unique())"
   ]
  },
  {
   "cell_type": "code",
   "execution_count": null,
   "metadata": {},
   "outputs": [],
   "source": []
  },
  {
   "cell_type": "code",
   "execution_count": 60,
   "metadata": {},
   "outputs": [
    {
     "data": {
      "text/html": [
       "<div>\n",
       "<style scoped>\n",
       "    .dataframe tbody tr th:only-of-type {\n",
       "        vertical-align: middle;\n",
       "    }\n",
       "\n",
       "    .dataframe tbody tr th {\n",
       "        vertical-align: top;\n",
       "    }\n",
       "\n",
       "    .dataframe thead th {\n",
       "        text-align: right;\n",
       "    }\n",
       "</style>\n",
       "<table border=\"1\" class=\"dataframe\">\n",
       "  <thead>\n",
       "    <tr style=\"text-align: right;\">\n",
       "      <th></th>\n",
       "      <th>related_researcher_id</th>\n",
       "    </tr>\n",
       "    <tr>\n",
       "      <th>researcher_id</th>\n",
       "      <th></th>\n",
       "    </tr>\n",
       "  </thead>\n",
       "  <tbody>\n",
       "    <tr>\n",
       "      <th>ur.01000273107.88</th>\n",
       "      <td>30173</td>\n",
       "    </tr>\n",
       "    <tr>\n",
       "      <th>ur.01000501355.27</th>\n",
       "      <td>16368</td>\n",
       "    </tr>\n",
       "    <tr>\n",
       "      <th>ur.010006461352.02</th>\n",
       "      <td>32290</td>\n",
       "    </tr>\n",
       "    <tr>\n",
       "      <th>ur.010006462741.55</th>\n",
       "      <td>6256</td>\n",
       "    </tr>\n",
       "    <tr>\n",
       "      <th>ur.01001040264.31</th>\n",
       "      <td>36068</td>\n",
       "    </tr>\n",
       "    <tr>\n",
       "      <th>...</th>\n",
       "      <td>...</td>\n",
       "    </tr>\n",
       "    <tr>\n",
       "      <th>ur.0777277254.78</th>\n",
       "      <td>16913</td>\n",
       "    </tr>\n",
       "    <tr>\n",
       "      <th>ur.07773074402.04</th>\n",
       "      <td>16983</td>\n",
       "    </tr>\n",
       "    <tr>\n",
       "      <th>ur.0777524705.86</th>\n",
       "      <td>97617</td>\n",
       "    </tr>\n",
       "    <tr>\n",
       "      <th>ur.0777654560.72</th>\n",
       "      <td>15047</td>\n",
       "    </tr>\n",
       "    <tr>\n",
       "      <th>ur.0777742233.90</th>\n",
       "      <td>32906</td>\n",
       "    </tr>\n",
       "  </tbody>\n",
       "</table>\n",
       "<p>1965 rows × 1 columns</p>\n",
       "</div>"
      ],
      "text/plain": [
       "                    related_researcher_id\n",
       "researcher_id                            \n",
       "ur.01000273107.88                   30173\n",
       "ur.01000501355.27                   16368\n",
       "ur.010006461352.02                  32290\n",
       "ur.010006462741.55                   6256\n",
       "ur.01001040264.31                   36068\n",
       "...                                   ...\n",
       "ur.0777277254.78                    16913\n",
       "ur.07773074402.04                   16983\n",
       "ur.0777524705.86                    97617\n",
       "ur.0777654560.72                    15047\n",
       "ur.0777742233.90                    32906\n",
       "\n",
       "[1965 rows x 1 columns]"
      ]
     },
     "execution_count": 60,
     "metadata": {},
     "output_type": "execute_result"
    }
   ],
   "source": [
    "potential_author_bib.\\\n",
    "    groupby('researcher_id').count()"
   ]
  },
  {
   "cell_type": "code",
   "execution_count": 61,
   "metadata": {},
   "outputs": [],
   "source": [
    "df = _"
   ]
  },
  {
   "cell_type": "code",
   "execution_count": 62,
   "metadata": {},
   "outputs": [
    {
     "data": {
      "text/plain": [
       "225603"
      ]
     },
     "execution_count": 62,
     "metadata": {},
     "output_type": "execute_result"
    }
   ],
   "source": [
    "df['related_researcher_id'].max()"
   ]
  },
  {
   "cell_type": "code",
   "execution_count": null,
   "metadata": {},
   "outputs": [],
   "source": []
  }
 ],
 "metadata": {
  "kernelspec": {
   "display_name": "Python 3",
   "language": "python",
   "name": "python3"
  },
  "language_info": {
   "codemirror_mode": {
    "name": "ipython",
    "version": 3
   },
   "file_extension": ".py",
   "mimetype": "text/x-python",
   "name": "python",
   "nbconvert_exporter": "python",
   "pygments_lexer": "ipython3",
   "version": "3.7.3"
  }
 },
 "nbformat": 4,
 "nbformat_minor": 2
}
