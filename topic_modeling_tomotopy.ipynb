{
 "cells": [
  {
   "cell_type": "code",
   "execution_count": 1,
   "metadata": {},
   "outputs": [
    {
     "name": "stderr",
     "output_type": "stream",
     "text": [
      "/home/lliang06/.local/lib/python3.7/site-packages/pandas/compat/_optional.py:138: UserWarning: Pandas requires version '2.7.0' or newer of 'numexpr' (version '2.6.9' currently installed).\n",
      "  warnings.warn(msg, UserWarning)\n"
     ]
    }
   ],
   "source": [
    "import pickle\n",
    "import numpy as np\n",
    "import pandas as pd\n",
    "import tomotopy as tp\n",
    "from tqdm.auto import tqdm"
   ]
  },
  {
   "cell_type": "code",
   "execution_count": 2,
   "metadata": {},
   "outputs": [],
   "source": [
    "tokens = pickle.load(open('./data/lda/tokens_lemm_bistop.pickle', 'rb'))"
   ]
  },
  {
   "cell_type": "code",
   "execution_count": 3,
   "metadata": {},
   "outputs": [],
   "source": [
    "mdl = tp.LDAModel(k=20)"
   ]
  },
  {
   "cell_type": "code",
   "execution_count": 4,
   "metadata": {},
   "outputs": [
    {
     "data": {
      "application/vnd.jupyter.widget-view+json": {
       "model_id": "020ff001a37f4fbd98a06ffbac8c01d1",
       "version_major": 2,
       "version_minor": 0
      },
      "text/plain": [
       "HBox(children=(HTML(value=''), FloatProgress(value=0.0, max=640908.0), HTML(value='')))"
      ]
     },
     "metadata": {},
     "output_type": "display_data"
    },
    {
     "name": "stdout",
     "output_type": "stream",
     "text": [
      "\n"
     ]
    }
   ],
   "source": [
    "for sentence in tqdm(tokens):\n",
    "    mdl.add_doc(sentence)"
   ]
  },
  {
   "cell_type": "code",
   "execution_count": 5,
   "metadata": {},
   "outputs": [
    {
     "data": {
      "application/vnd.jupyter.widget-view+json": {
       "model_id": "1e0655226eff4734bacd58fbe592dc80",
       "version_major": 2,
       "version_minor": 0
      },
      "text/plain": [
       "HBox(children=(HTML(value=''), FloatProgress(value=0.0, max=10.0), HTML(value='')))"
      ]
     },
     "metadata": {},
     "output_type": "display_data"
    },
    {
     "name": "stdout",
     "output_type": "stream",
     "text": [
      "Iteration: 0\tLog-likelihood: -13.832337479724085\n",
      "Iteration: 10\tLog-likelihood: -12.862373681482689\n",
      "Iteration: 20\tLog-likelihood: -12.600160651691265\n",
      "Iteration: 30\tLog-likelihood: -12.490619898562409\n",
      "Iteration: 40\tLog-likelihood: -12.43187659567821\n",
      "Iteration: 50\tLog-likelihood: -12.396818475961535\n",
      "Iteration: 60\tLog-likelihood: -12.374684487564783\n",
      "Iteration: 70\tLog-likelihood: -12.359744746198103\n",
      "Iteration: 80\tLog-likelihood: -12.348985550151491\n",
      "Iteration: 90\tLog-likelihood: -12.341621919110965\n",
      "\n"
     ]
    }
   ],
   "source": [
    "for i in tqdm(range(0, 100, 10)):\n",
    "    mdl.train(10)\n",
    "    print('Iteration: {}\\tLog-likelihood: {}'.format(i, mdl.ll_per_word))"
   ]
  },
  {
   "cell_type": "code",
   "execution_count": 6,
   "metadata": {},
   "outputs": [
    {
     "name": "stdout",
     "output_type": "stream",
     "text": [
      "Top 10 words of topic #0\n",
      "[('model', 0.02479933388531208), ('parameter', 0.005698351189494133), ('simulation', 0.005692079663276672), ('function', 0.004838516470044851), ('approach', 0.004692575428634882), ('datum', 0.0042043207213282585), ('present', 0.0041959588415920734), ('dynamic', 0.0037829612847417593), ('obtain', 0.003646689001470804), ('theory', 0.0036303570959717035)]\n",
      "Top 10 words of topic #1\n",
      "[('water', 0.003749394789338112), ('datum', 0.003641461255028844), ('area', 0.0031427876092493534), ('high', 0.0029225097969174385), ('region', 0.0029188774060457945), ('low', 0.002393479924649), ('large', 0.002308897441253066), ('event', 0.0022959245834499598), ('period', 0.0021760561503469944), ('source', 0.0021259812638163567)]\n",
      "Top 10 words of topic #2\n",
      "[('patient', 0.018824132159352303), ('group', 0.005099220667034388), ('treatment', 0.004465795122087002), ('year', 0.004390131216496229), ('age', 0.004045478533953428), ('clinical', 0.003954889718443155), ('risk', 0.0037730184849351645), ('high', 0.0037543918006122112), ('disease', 0.0036170626990497112), ('case', 0.0031029179226607084)]\n",
      "Top 10 words of topic #3\n",
      "[('magnetic', 0.01122981496155262), ('phase', 0.01099180243909359), ('temperature', 0.009723274037241936), ('spin', 0.008362113498151302), ('field', 0.008082536980509758), ('transition', 0.006714107468724251), ('state', 0.005108783021569252), ('order', 0.004230915103107691), ('structure', 0.0040749115869402885), ('crystal', 0.003950220998376608)]\n",
      "Top 10 words of topic #4\n",
      "[('research', 0.0060858638025820255), ('review', 0.005099340341985226), ('development', 0.004188716411590576), ('provide', 0.003352733328938484), ('health', 0.0031652655452489853), ('recent', 0.0029121136758476496), ('discuss', 0.00274853128939867), ('need', 0.0025404782500118017), ('new', 0.0025044933427125216), ('focus', 0.002441166201606393)]\n",
      "Top 10 words of topic #5\n",
      "[('high', 0.008374996483325958), ('material', 0.00808226503431797), ('electrode', 0.005204412620514631), ('carbon', 0.005006871651858091), ('nanoparticle', 0.004282283131033182), ('ion', 0.004012494347989559), ('cell', 0.0038782511837780476), ('electrochemical', 0.0037620696239173412), ('performance', 0.0036979583092033863), ('surface', 0.0035725017078220844)]\n",
      "Top 10 words of topic #6\n",
      "[('energy', 0.014796478673815727), ('state', 0.012491406872868538), ('band', 0.007589228916913271), ('electron', 0.0065321410074830055), ('charge', 0.006318300496786833), ('calculation', 0.0050739869475364685), ('electronic', 0.005060036666691303), ('density', 0.004783604294061661), ('transfer', 0.004357024561613798), ('level', 0.0036593356635421515)]\n",
      "Top 10 words of topic #7\n",
      "[('acid', 0.008853098377585411), ('polymer', 0.006852220743894577), ('membrane', 0.005893529858440161), ('protein', 0.0056733861565589905), ('concentration', 0.00480227917432785), ('enzyme', 0.0047258855774998665), ('chain', 0.0037183454260230064), ('activity', 0.0032660069409757853), ('high', 0.0029139488469809294), ('contain', 0.0024822689592838287)]\n",
      "Top 10 words of topic #8\n",
      "[('film', 0.013198134489357471), ('layer', 0.008690464310348034), ('surface', 0.007632083259522915), ('high', 0.006377642974257469), ('device', 0.005614012945443392), ('substrate', 0.005073314532637596), ('thin', 0.004992697853595018), ('growth', 0.004814955405890942), ('material', 0.004392590839415789), ('temperature', 0.004358729347586632)]\n",
      "Top 10 words of topic #9\n",
      "[('image', 0.009368322789669037), ('sample', 0.007649256382137537), ('detection', 0.006018012762069702), ('technique', 0.005687462631613016), ('detect', 0.0037889115046709776), ('analysis', 0.0037494811695069075), ('resolution', 0.003200015053153038), ('measurement', 0.0031516230665147305), ('imaging', 0.0031465021893382072), ('test', 0.003079419257119298)]\n",
      "Top 10 words of topic #10\n",
      "[('temperature', 0.012882835231721401), ('flow', 0.011747743003070354), ('pressure', 0.009926164522767067), ('heat', 0.007620824500918388), ('gas', 0.006336687598377466), ('thermal', 0.005696093197911978), ('particle', 0.005200332496315241), ('water', 0.004624786786735058), ('liquid', 0.004612577147781849), ('fluid', 0.004545844160020351)]\n",
      "Top 10 words of topic #11\n",
      "[('plant', 0.007253551855683327), ('specie', 0.00617187237367034), ('high', 0.004961016122251749), ('soil', 0.004376239143311977), ('growth', 0.0036675529554486275), ('water', 0.00287457462400198), ('production', 0.0028113555163145065), ('population', 0.0027104157488793135), ('low', 0.0026269664522260427), ('treatment', 0.002456064336001873)]\n",
      "Top 10 words of topic #12\n",
      "[('optical', 0.008819473907351494), ('frequency', 0.007906772196292877), ('laser', 0.006787627469748259), ('light', 0.005387798883020878), ('mode', 0.005226410459727049), ('wave', 0.0051970090717077255), ('field', 0.004944667685776949), ('high', 0.004787509795278311), ('pulse', 0.004660175647586584), ('demonstrate', 0.004089498892426491)]\n",
      "Top 10 words of topic #13\n",
      "[('structure', 0.010717138648033142), ('surface', 0.009925768710672855), ('complex', 0.006840894464403391), ('bond', 0.006665165536105633), ('site', 0.006100516766309738), ('molecule', 0.006008141208440065), ('cluster', 0.005312676541507244), ('form', 0.004974162206053734), ('atom', 0.004727238789200783), ('molecular', 0.004601717926561832)]\n",
      "Top 10 words of topic #14\n",
      "[('reaction', 0.019081879407167435), ('catalyst', 0.010205215774476528), ('product', 0.005388770252466202), ('complex', 0.005108267534524202), ('oxidation', 0.005088462494313717), ('catalytic', 0.004601624328643084), ('activity', 0.0040078796446323395), ('yield', 0.003876924281939864), ('synthesis', 0.00376779492944479), ('co', 0.0036170347593724728)]\n",
      "Top 10 words of topic #15\n",
      "[('cell', 0.02077338844537735), ('induce', 0.0049622380174696445), ('level', 0.004497084300965071), ('mouse', 0.004070707131177187), ('tumor', 0.0036029464099556208), ('activity', 0.0035913786850869656), ('tissue', 0.0034558242186903954), ('response', 0.003131275763735175), ('expression', 0.0030740888323634863), ('cancer', 0.002889330731704831)]\n",
      "Top 10 words of topic #16\n",
      "[('network', 0.009675770066678524), ('propose', 0.0071992878802120686), ('datum', 0.005712622776627541), ('algorithm', 0.005470422562211752), ('problem', 0.004588339943438768), ('time', 0.004226162098348141), ('performance', 0.0041114892810583115), ('information', 0.0031716623343527317), ('show', 0.003127588890492916), ('approach', 0.0030069989152252674)]\n",
      "Top 10 words of topic #17\n",
      "[('stress', 0.008296982385218143), ('strain', 0.006306005176156759), ('mechanical', 0.00588935287669301), ('force', 0.004798096604645252), ('strength', 0.004721233621239662), ('grain', 0.004620491061359644), ('material', 0.004604571033269167), ('property', 0.0037715150974690914), ('deformation', 0.003281979588791728), ('alloy', 0.0031896941363811493)]\n",
      "Top 10 words of topic #18\n",
      "[('power', 0.011322480626404285), ('design', 0.009920194745063782), ('energy', 0.007788554765284061), ('control', 0.0077379001304507256), ('performance', 0.00553848035633564), ('high', 0.005012284964323044), ('device', 0.004649230279028416), ('current', 0.004532418213784695), ('propose', 0.0045131295919418335), ('cost', 0.0043108719401061535)]\n",
      "Top 10 words of topic #19\n",
      "[('protein', 0.010928001254796982), ('gene', 0.010681717656552792), ('cell', 0.007188500836491585), ('expression', 0.004782222211360931), ('sequence', 0.0036125038750469685), ('identify', 0.0032191697973757982), ('bind', 0.003112566890195012), ('show', 0.0029662020970135927), ('dna', 0.002898675622418523), ('mutation', 0.0027956718113273382)]\n",
      "<Basic Info>\n",
      "| LDAModel (current version: 0.12.4)\n",
      "| 640626 docs, 108249983 words\n",
      "| Total Vocabs: 13932479, Used Vocabs: 13932479\n",
      "| Entropy of words: 12.28071\n",
      "| Entropy of term-weighted words: 12.28071\n",
      "| Removed Vocabs: <NA>\n",
      "|\n",
      "<Training Info>\n",
      "| Iterations: 100, Burn-in steps: 0\n",
      "| Optimization Interval: 10\n",
      "| Log-likelihood per word: -12.34162\n",
      "|\n",
      "<Initial Parameters>\n",
      "| tw: TermWeight.ONE\n",
      "| min_cf: 0 (minimum collection frequency of words)\n",
      "| min_df: 0 (minimum document frequency of words)\n",
      "| rm_top: 0 (the number of top words to be removed)\n",
      "| k: 20 (the number of topics between 1 ~ 32767)\n",
      "| alpha: [0.1] (hyperparameter of Dirichlet distribution for document-topic, given as a single `float` in case of symmetric prior and as a list with length `k` of `float` in case of asymmetric prior.)\n",
      "| eta: 0.01 (hyperparameter of Dirichlet distribution for topic-word)\n",
      "| seed: 2711811734 (random seed)\n",
      "| trained in version 0.12.4\n",
      "|\n",
      "<Parameters>\n",
      "| alpha (Dirichlet prior on the per-document topic distributions)\n",
      "|  [0.14282551 0.0377388  0.04713134 0.07247323 0.09046728 0.07504369\n",
      "|   0.0816461  0.0588739  0.09573655 0.07156187 0.06967177 0.03930346\n",
      "|   0.0717889  0.07782464 0.06035441 0.0454152  0.05630678 0.06088949\n",
      "|   0.08352729 0.04850871]\n",
      "| eta (Dirichlet prior on the per-topic word distribution)\n",
      "|  0.01\n",
      "|\n",
      "<Topics>\n"
     ]
    },
    {
     "name": "stdout",
     "output_type": "stream",
     "text": [
      "| #0 (7514470) : model parameter simulation function approach\n",
      "| #1 (3714900) : water datum area high region\n",
      "| #2 (8504155) : patient group treatment year age\n",
      "| #3 (5225947) : magnetic phase temperature spin field\n",
      "| #4 (6224441) : research review development provide health\n",
      "| #5 (6006231) : high material electrode carbon nanoparticle\n",
      "| #6 (5308661) : energy state band electron charge\n",
      "| #7 (4507637) : acid polymer membrane protein concentration\n",
      "| #8 (8159197) : film layer surface high device\n",
      "| #9 (3766285) : image sample detection technique detect\n",
      "| #10 (4610950) : temperature flow pressure heat gas\n",
      "| #11 (4606076) : plant specie high soil growth\n",
      "| #12 (4588396) : optical frequency laser light mode\n",
      "| #13 (4959425) : structure surface complex bond site\n",
      "| #14 (4808930) : reaction catalyst product complex oxidation\n",
      "| #15 (5998432) : cell induce level mouse tumor\n",
      "| #16 (4761578) : network propose datum algorithm problem\n",
      "| #17 (3880813) : stress strain mechanical force strength\n",
      "| #18 (5408047) : power design energy control performance\n",
      "| #19 (5695412) : protein gene cell expression sequence\n",
      "|\n",
      "\n"
     ]
    }
   ],
   "source": [
    "for k in range(mdl.k):\n",
    "    print('Top 10 words of topic #{}'.format(k))\n",
    "    print(mdl.get_topic_words(k, top_n=10))\n",
    "\n",
    "mdl.summary()"
   ]
  },
  {
   "cell_type": "code",
   "execution_count": null,
   "metadata": {},
   "outputs": [],
   "source": []
  }
 ],
 "metadata": {
  "kernelspec": {
   "display_name": "Python 3",
   "language": "python",
   "name": "python3"
  },
  "language_info": {
   "codemirror_mode": {
    "name": "ipython",
    "version": 3
   },
   "file_extension": ".py",
   "mimetype": "text/x-python",
   "name": "python",
   "nbconvert_exporter": "python",
   "pygments_lexer": "ipython3",
   "version": "3.7.3"
  }
 },
 "nbformat": 4,
 "nbformat_minor": 2
}
